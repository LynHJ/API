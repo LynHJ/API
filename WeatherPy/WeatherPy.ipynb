{
 "cells": [
  {
   "cell_type": "markdown",
   "metadata": {},
   "source": [
    "# WeatherPy\n",
    "----\n",
    "\n",
    "#### Note\n",
    "* Instructions have been included for each segment. You do not have to follow them exactly, but they are included to help you think through the steps."
   ]
  },
  {
   "cell_type": "code",
   "execution_count": 1,
   "metadata": {
    "scrolled": true
   },
   "outputs": [],
   "source": [
    "# Dependencies and Setup\n",
    "import matplotlib.pyplot as plt\n",
    "import pandas as pd\n",
    "import numpy as np\n",
    "import requests\n",
    "import time\n",
    "from scipy.stats import linregress\n",
    "\n",
    "# Import API key\n",
    "from api_keys import weather_api_key\n",
    "\n",
    "# Incorporated citipy to determine city based on latitude and longitude\n",
    "from citipy import citipy\n",
    "\n",
    "# Output File (CSV)\n",
    "output_data_file = \"output_data/cities.csv\"\n",
    "\n",
    "# Range of latitudes and longitudes\n",
    "lat_range = (-90, 90)\n",
    "lng_range = (-180, 180)"
   ]
  },
  {
   "cell_type": "markdown",
   "metadata": {},
   "source": [
    "## Generate Cities List"
   ]
  },
  {
   "cell_type": "code",
   "execution_count": 2,
   "metadata": {},
   "outputs": [
    {
     "data": {
      "text/plain": [
       "613"
      ]
     },
     "execution_count": 2,
     "metadata": {},
     "output_type": "execute_result"
    }
   ],
   "source": [
    "# List for holding lat_lngs and cities\n",
    "lat_lngs = []\n",
    "cities = []\n",
    "\n",
    "# Create a set of random lat and lng combinations\n",
    "lats = np.random.uniform(lat_range[0], lat_range[1], size=1500)\n",
    "lngs = np.random.uniform(lng_range[0], lng_range[1], size=1500)\n",
    "lat_lngs = zip(lats, lngs)\n",
    "\n",
    "# Identify nearest city for each lat, lng combination\n",
    "for lat_lng in lat_lngs:\n",
    "    city = citipy.nearest_city(lat_lng[0], lat_lng[1]).city_name\n",
    "    \n",
    "    # If the city is unique, then add it to a our cities list\n",
    "    if city not in cities:\n",
    "        cities.append(city)\n",
    "\n",
    "# Print the city count to confirm sufficient count\n",
    "len(cities)"
   ]
  },
  {
   "cell_type": "markdown",
   "metadata": {},
   "source": [
    "### Perform API Calls\n",
    "* Perform a weather check on each city using a series of successive API calls.\n",
    "* Include a print log of each city as it's being processed (with the city number and city name).\n"
   ]
  },
  {
   "cell_type": "code",
   "execution_count": 3,
   "metadata": {},
   "outputs": [],
   "source": [
    "# Save config information.\n",
    "url = \"http://api.openweathermap.org/data/2.5/weather?\"\n",
    "units = \"metric\"\n",
    "\n",
    "# Build partial query URL with Temperature (Celsius)\n",
    "query_url = f\"{url}appid={weather_api_key}&units={units}&q=\"\n",
    "\n",
    "#print(requests.get(query_url+cities[1]).json())"
   ]
  },
  {
   "cell_type": "code",
   "execution_count": null,
   "metadata": {},
   "outputs": [
    {
     "name": "stdout",
     "output_type": "stream",
     "text": [
      "Beginning Data Retrieval\n",
      "______________________________\n",
      "Processing Record|upernavik\n",
      "Processing Record|ushuaia\n",
      "Processing Record|new norfolk\n",
      "Processing Record|taolanaro\n",
      "Processing Record|nichinan\n",
      "Processing Record|treinta y tres\n",
      "Processing Record|bredasdorp\n",
      "Processing Record|khatanga\n",
      "Processing Record|guisa\n",
      "Processing Record|ancud\n",
      "Processing Record|souillac\n",
      "Processing Record|fort morgan\n",
      "Processing Record|prachuap khiri khan\n",
      "Processing Record|arraial do cabo\n",
      "Processing Record|ossora\n",
      "Processing Record|belgrade\n",
      "Processing Record|keti bandar\n",
      "Processing Record|glace bay\n",
      "Processing Record|sambava\n",
      "Processing Record|busselton\n",
      "Processing Record|saint anthony\n",
      "Processing Record|launceston\n",
      "Processing Record|albany\n",
      "Processing Record|sao luiz gonzaga\n",
      "Processing Record|stepnyak\n",
      "Processing Record|merauke\n",
      "Processing Record|saint-pierre\n",
      "Processing Record|marawi\n",
      "Processing Record|rikitea\n",
      "Processing Record|mataura\n",
      "Processing Record|evensk\n",
      "Processing Record|rubtsovsk\n",
      "Processing Record|moerai\n",
      "Processing Record|half moon bay\n",
      "Processing Record|morehead\n",
      "Processing Record|belushya guba\n",
      "Processing Record|dhidhdhoo\n",
      "Processing Record|rungata\n",
      "Processing Record|bethel\n",
      "Processing Record|ilulissat\n",
      "Processing Record|ahipara\n",
      "Processing Record|castro\n",
      "Processing Record|bluff\n",
      "Processing Record|talnakh\n",
      "Processing Record|hobart\n",
      "Processing Record|berdigestyakh\n",
      "Processing Record|avera\n",
      "Processing Record|issenye\n",
      "Processing Record|dromolaxia\n",
      "Processing Record|kapaa\n",
      "Processing Record|juneau\n",
      "Processing Record|port alfred\n",
      "Processing Record|hoganas\n",
      "Processing Record|jamestown\n",
      "Processing Record|portland\n",
      "Processing Record|hilo\n",
      "Processing Record|hammerfest\n",
      "Processing Record|yellowknife\n",
      "Processing Record|ponta do sol\n",
      "Processing Record|ust-nera\n",
      "Processing Record|illoqqortoormiut\n",
      "Processing Record|butaritari\n",
      "Processing Record|kavaratti\n",
      "Processing Record|benguela\n",
      "Processing Record|columbus\n",
      "Processing Record|vaitupu\n",
      "Processing Record|mys shmidta\n",
      "Processing Record|inhambane\n",
      "Processing Record|vaini\n",
      "Processing Record|kaduqli\n",
      "Processing Record|malartic\n",
      "Processing Record|barentsburg\n",
      "Processing Record|barrow\n",
      "Processing Record|san quintin\n",
      "Processing Record|tateyama\n",
      "Processing Record|miyako\n",
      "Processing Record|cape town\n",
      "Processing Record|nemuro\n",
      "Processing Record|izvor\n",
      "Processing Record|mar del plata\n",
      "Processing Record|luderitz\n",
      "Processing Record|dzhusaly\n",
      "Processing Record|fort-shevchenko\n",
      "Processing Record|naryan-mar\n",
      "Processing Record|tari\n",
      "Processing Record|trincomalee\n",
      "Processing Record|severo-kurilsk\n",
      "Processing Record|punta arenas\n",
      "Processing Record|sentyabrskiy\n",
      "Processing Record|atasu\n",
      "Processing Record|clyde river\n",
      "Processing Record|tasiilaq\n",
      "Processing Record|srednekolymsk\n",
      "Processing Record|krasnoselkup\n",
      "Processing Record|presidente medici\n",
      "Processing Record|acapulco\n",
      "Processing Record|doctor pedro p. pena\n",
      "Processing Record|bacabal\n",
      "Processing Record|chernyshevskiy\n",
      "Processing Record|berlevag\n",
      "Processing Record|tuktoyaktuk\n",
      "Processing Record|burnie\n",
      "Processing Record|georgetown\n",
      "Processing Record|chokurdakh\n",
      "Processing Record|sayyan\n",
      "Processing Record|husavik\n",
      "Processing Record|sitka\n",
      "Processing Record|thompson\n",
      "Processing Record|lompoc\n",
      "Processing Record|nanortalik\n",
      "Processing Record|paradwip\n",
      "Processing Record|kodiak\n",
      "Processing Record|atbasar\n",
      "Processing Record|tiksi\n",
      "Processing Record|korfez\n",
      "Processing Record|atuona\n",
      "Processing Record|bambous virieux\n",
      "Processing Record|chuy\n",
      "Processing Record|okhotsk\n",
      "Processing Record|limot\n",
      "Processing Record|ribeira grande\n",
      "Processing Record|puerto ayora\n",
      "Processing Record|haimen\n",
      "Processing Record|ambilobe\n",
      "Processing Record|safita\n",
      "Processing Record|ambon\n",
      "Processing Record|airai\n",
      "Processing Record|aklavik\n",
      "Processing Record|nueva guinea\n",
      "Processing Record|hithadhoo\n",
      "Processing Record|sept-iles\n",
      "Processing Record|yenangyaung\n",
      "Processing Record|yangjiang\n",
      "Processing Record|raudeberg\n",
      "Processing Record|kimbe\n",
      "Processing Record|saint-philippe\n",
      "Processing Record|nyurba\n",
      "Processing Record|harper\n",
      "Processing Record|murud\n",
      "Processing Record|east london\n",
      "Processing Record|mahebourg\n",
      "Processing Record|cherskiy\n",
      "Processing Record|lima\n",
      "Processing Record|talaya\n",
      "Processing Record|tommot\n",
      "Processing Record|pontes e lacerda\n",
      "Processing Record|fevralsk\n",
      "Processing Record|esperance\n",
      "Processing Record|northam\n",
      "Processing Record|kamenka\n",
      "Processing Record|kalmunai\n",
      "Processing Record|san patricio\n",
      "Processing Record|mount isa\n",
      "Processing Record|camana\n",
      "Processing Record|kushmurun\n",
      "Processing Record|khor\n",
      "Processing Record|avarua\n",
      "Processing Record|lebu\n",
      "Processing Record|nikolskoye\n",
      "Processing Record|bada\n",
      "Processing Record|tura\n",
      "Processing Record|beringovskiy\n",
      "Processing Record|lolua\n",
      "Processing Record|hambantota\n",
      "Processing Record|camacha\n",
      "Processing Record|krasnoye\n",
      "Processing Record|bahia blanca\n",
      "Processing Record|dikson\n",
      "Processing Record|leningradskiy\n",
      "Processing Record|ambulu\n",
      "Processing Record|ajdabiya\n",
      "Processing Record|hualmay\n",
      "Processing Record|coihaique\n",
      "Processing Record|mareeba\n",
      "Processing Record|sao filipe\n",
      "Processing Record|aflu\n",
      "Processing Record|umzimvubu\n",
      "Processing Record|okha\n",
      "Processing Record|narsaq\n",
      "Processing Record|veraval\n",
      "Processing Record|soldotna\n",
      "Processing Record|dubbo\n",
      "Processing Record|zhigansk\n",
      "Processing Record|winnemucca\n",
      "Processing Record|provideniya\n",
      "Processing Record|polewali\n",
      "Processing Record|joshimath\n",
      "Processing Record|abnub\n",
      "Processing Record|ahuimanu\n",
      "Processing Record|sawakin\n",
      "Processing Record|hasaki\n",
      "Processing Record|iqaluit\n",
      "Processing Record|namibe\n",
      "Processing Record|pevek\n",
      "Processing Record|kathmandu\n",
      "Processing Record|victoria\n",
      "Processing Record|saleaula\n",
      "Processing Record|tahta\n",
      "Processing Record|kamaishi\n",
      "Processing Record|nelson bay\n"
     ]
    }
   ],
   "source": [
    "print(f'Beginning Data Retrieval')\n",
    "print('_'*30)\n",
    "for city in cities:\n",
    "    response=requests.get(query_url+city).json()\n",
    "\n",
    "    try:\n",
    "        print(f\"Processing Record|{city}\")\n",
    "        \n",
    "    except (KeyError, IndexError):\n",
    "        print(\"City not found... skipping.\")\n",
    "            \n",
    "print(\"-\"*30)"
   ]
  },
  {
   "cell_type": "markdown",
   "metadata": {},
   "source": [
    "### Convert Raw Data to DataFrame\n",
    "* Export the city data into a .csv.\n",
    "* Display the DataFrame"
   ]
  },
  {
   "cell_type": "code",
   "execution_count": null,
   "metadata": {},
   "outputs": [],
   "source": []
  },
  {
   "cell_type": "code",
   "execution_count": null,
   "metadata": {},
   "outputs": [],
   "source": []
  },
  {
   "cell_type": "markdown",
   "metadata": {},
   "source": [
    "## Inspect the data and remove the cities where the humidity > 100%.\n",
    "----\n",
    "Skip this step if there are no cities that have humidity > 100%. "
   ]
  },
  {
   "cell_type": "code",
   "execution_count": null,
   "metadata": {},
   "outputs": [],
   "source": [
    "#  Get the indices of cities that have humidity over 100%.\n"
   ]
  },
  {
   "cell_type": "code",
   "execution_count": null,
   "metadata": {},
   "outputs": [],
   "source": [
    "# Make a new DataFrame equal to the city data to drop all humidity outliers by index.\n",
    "# Passing \"inplace=False\" will make a copy of the city_data DataFrame, which we call \"clean_city_data\".\n"
   ]
  },
  {
   "cell_type": "code",
   "execution_count": null,
   "metadata": {},
   "outputs": [],
   "source": []
  },
  {
   "cell_type": "markdown",
   "metadata": {},
   "source": [
    "## Plotting the Data\n",
    "* Use proper labelling of the plots using plot titles (including date of analysis) and axes labels.\n",
    "* Save the plotted figures as .pngs."
   ]
  },
  {
   "cell_type": "markdown",
   "metadata": {},
   "source": [
    "## Latitude vs. Temperature Plot"
   ]
  },
  {
   "cell_type": "code",
   "execution_count": null,
   "metadata": {
    "scrolled": true
   },
   "outputs": [],
   "source": []
  },
  {
   "cell_type": "markdown",
   "metadata": {},
   "source": [
    "## Latitude vs. Humidity Plot"
   ]
  },
  {
   "cell_type": "code",
   "execution_count": null,
   "metadata": {},
   "outputs": [],
   "source": []
  },
  {
   "cell_type": "markdown",
   "metadata": {},
   "source": [
    "## Latitude vs. Cloudiness Plot"
   ]
  },
  {
   "cell_type": "code",
   "execution_count": null,
   "metadata": {},
   "outputs": [],
   "source": []
  },
  {
   "cell_type": "markdown",
   "metadata": {},
   "source": [
    "## Latitude vs. Wind Speed Plot"
   ]
  },
  {
   "cell_type": "code",
   "execution_count": null,
   "metadata": {},
   "outputs": [],
   "source": []
  },
  {
   "cell_type": "markdown",
   "metadata": {},
   "source": [
    "## Linear Regression"
   ]
  },
  {
   "cell_type": "code",
   "execution_count": null,
   "metadata": {},
   "outputs": [],
   "source": []
  },
  {
   "cell_type": "markdown",
   "metadata": {},
   "source": [
    "###  Max Temp vs. Latitude Linear Regression"
   ]
  },
  {
   "cell_type": "markdown",
   "metadata": {},
   "source": [
    "####  Northern Hemisphere - Max Temp vs. Latitude Linear Regression"
   ]
  },
  {
   "cell_type": "code",
   "execution_count": null,
   "metadata": {},
   "outputs": [],
   "source": []
  },
  {
   "cell_type": "markdown",
   "metadata": {},
   "source": [
    "####  Southern Hemisphere - Max Temp vs. Latitude Linear Regression"
   ]
  },
  {
   "cell_type": "code",
   "execution_count": null,
   "metadata": {},
   "outputs": [],
   "source": []
  },
  {
   "cell_type": "markdown",
   "metadata": {},
   "source": [
    "### Humidity (%) vs. Latitude Linear Regression"
   ]
  },
  {
   "cell_type": "markdown",
   "metadata": {},
   "source": [
    "####  Northern Hemisphere - Humidity (%) vs. Latitude Linear Regression"
   ]
  },
  {
   "cell_type": "code",
   "execution_count": null,
   "metadata": {},
   "outputs": [],
   "source": []
  },
  {
   "cell_type": "markdown",
   "metadata": {},
   "source": [
    "####  Southern Hemisphere - Humidity (%) vs. Latitude Linear Regression"
   ]
  },
  {
   "cell_type": "code",
   "execution_count": null,
   "metadata": {},
   "outputs": [],
   "source": []
  },
  {
   "cell_type": "markdown",
   "metadata": {},
   "source": [
    "### Cloudiness (%) vs. Latitude Linear Regression"
   ]
  },
  {
   "cell_type": "markdown",
   "metadata": {},
   "source": [
    "####  Northern Hemisphere - Cloudiness (%) vs. Latitude Linear Regression"
   ]
  },
  {
   "cell_type": "code",
   "execution_count": null,
   "metadata": {},
   "outputs": [],
   "source": []
  },
  {
   "cell_type": "markdown",
   "metadata": {},
   "source": [
    "####  Southern Hemisphere - Cloudiness (%) vs. Latitude Linear Regression"
   ]
  },
  {
   "cell_type": "code",
   "execution_count": null,
   "metadata": {},
   "outputs": [],
   "source": []
  },
  {
   "cell_type": "markdown",
   "metadata": {},
   "source": [
    "### Wind Speed (m/s) vs. Latitude Linear Regression"
   ]
  },
  {
   "cell_type": "markdown",
   "metadata": {},
   "source": [
    "####  Northern Hemisphere - Wind Speed (mph) vs. Latitude Linear Regression"
   ]
  },
  {
   "cell_type": "code",
   "execution_count": null,
   "metadata": {},
   "outputs": [],
   "source": []
  },
  {
   "cell_type": "markdown",
   "metadata": {},
   "source": [
    "####  Southern Hemisphere - Wind Speed (mph) vs. Latitude Linear Regression"
   ]
  },
  {
   "cell_type": "code",
   "execution_count": null,
   "metadata": {},
   "outputs": [],
   "source": []
  },
  {
   "cell_type": "code",
   "execution_count": null,
   "metadata": {},
   "outputs": [],
   "source": []
  }
 ],
 "metadata": {
  "anaconda-cloud": {},
  "kernel_info": {
   "name": "python3"
  },
  "kernelspec": {
   "display_name": "Python [conda env:PythonData] *",
   "language": "python",
   "name": "conda-env-PythonData-py"
  },
  "language_info": {
   "codemirror_mode": {
    "name": "ipython",
    "version": 3
   },
   "file_extension": ".py",
   "mimetype": "text/x-python",
   "name": "python",
   "nbconvert_exporter": "python",
   "pygments_lexer": "ipython3",
   "version": "3.7.7"
  },
  "latex_envs": {
   "LaTeX_envs_menu_present": true,
   "autoclose": false,
   "autocomplete": true,
   "bibliofile": "biblio.bib",
   "cite_by": "apalike",
   "current_citInitial": 1,
   "eqLabelWithNumbers": true,
   "eqNumInitial": 1,
   "hotkeys": {
    "equation": "Ctrl-E",
    "itemize": "Ctrl-I"
   },
   "labels_anchors": false,
   "latex_user_defs": false,
   "report_style_numbering": false,
   "user_envs_cfg": false
  },
  "nteract": {
   "version": "0.12.3"
  }
 },
 "nbformat": 4,
 "nbformat_minor": 2
}
