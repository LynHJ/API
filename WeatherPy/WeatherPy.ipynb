{
 "cells": [
  {
   "cell_type": "markdown",
   "metadata": {},
   "source": [
    "# WeatherPy\n",
    "----\n",
    "\n",
    "#### Note\n",
    "* Instructions have been included for each segment. You do not have to follow them exactly, but they are included to help you think through the steps."
   ]
  },
  {
   "cell_type": "code",
   "execution_count": 1,
   "metadata": {
    "scrolled": true
   },
   "outputs": [],
   "source": [
    "# Dependencies and Setup\n",
    "import matplotlib.pyplot as plt\n",
    "import pandas as pd\n",
    "import numpy as np\n",
    "import requests\n",
    "import time\n",
    "from scipy.stats import linregress\n",
    "\n",
    "# Import API key\n",
    "from api_keys import weather_api_key\n",
    "\n",
    "# Incorporated citipy to determine city based on latitude and longitude\n",
    "from citipy import citipy\n",
    "\n",
    "# Output File (CSV)\n",
    "output_data_file = \"output_data/cities.csv\"\n",
    "\n",
    "# Range of latitudes and longitudes\n",
    "lat_range = (-90, 90)\n",
    "lng_range = (-180, 180)"
   ]
  },
  {
   "cell_type": "markdown",
   "metadata": {},
   "source": [
    "## Generate Cities List"
   ]
  },
  {
   "cell_type": "code",
   "execution_count": 2,
   "metadata": {},
   "outputs": [
    {
     "data": {
      "text/plain": [
       "597"
      ]
     },
     "execution_count": 2,
     "metadata": {},
     "output_type": "execute_result"
    }
   ],
   "source": [
    "# List for holding lat_lngs and cities\n",
    "lat_lngs = []\n",
    "cities = []\n",
    "\n",
    "# Create a set of random lat and lng combinations\n",
    "lats = np.random.uniform(lat_range[0], lat_range[1], size=1500)\n",
    "lngs = np.random.uniform(lng_range[0], lng_range[1], size=1500)\n",
    "lat_lngs = zip(lats, lngs)\n",
    "\n",
    "# Identify nearest city for each lat, lng combination\n",
    "for lat_lng in lat_lngs:\n",
    "    city = citipy.nearest_city(lat_lng[0], lat_lng[1]).city_name\n",
    "    \n",
    "    # If the city is unique, then add it to a our cities list\n",
    "    if city not in cities:\n",
    "        cities.append(city)\n",
    "\n",
    "# Print the city count to confirm sufficient count\n",
    "len(cities)"
   ]
  },
  {
   "cell_type": "markdown",
   "metadata": {},
   "source": [
    "### Perform API Calls\n",
    "* Perform a weather check on each city using a series of successive API calls.\n",
    "* Include a print log of each city as it's being processed (with the city number and city name).\n"
   ]
  },
  {
   "cell_type": "code",
   "execution_count": 3,
   "metadata": {},
   "outputs": [],
   "source": [
    "# Save config information.\n",
    "url = \"http://api.openweathermap.org/data/2.5/weather?\"\n",
    "units = \"metric\"\n",
    "\n",
    "# Build partial query URL with Temperature (Celsius)\n",
    "query_url = f\"{url}appid={weather_api_key}&units={units}&q=\""
   ]
  },
  {
   "cell_type": "code",
   "execution_count": 4,
   "metadata": {},
   "outputs": [],
   "source": [
    "CityData=pd.DataFrame(columns=['City','Lat','Lng','Max Temp','Humidity','Cloudiness','Wind Speed','Country','Date'])\n",
    "CityData['City']=cities"
   ]
  },
  {
   "cell_type": "code",
   "execution_count": 5,
   "metadata": {},
   "outputs": [
    {
     "name": "stdout",
     "output_type": "stream",
     "text": [
      "Processing Record 1 of set 1|Pevek\n",
      "Processing Record 2 of set 1|Zhigansk\n",
      "City not found/Data missing.....skipping.\n",
      "Processing Record 3 of set 1|Hermanus\n",
      "Processing Record 4 of set 1|Qaanaaq\n",
      "Processing Record 5 of set 1|Ushuaia\n",
      "Processing Record 6 of set 1|Hilo\n",
      "Processing Record 7 of set 1|Cape Town\n",
      "Processing Record 8 of set 1|Mendeleyevsk\n",
      "Processing Record 9 of set 1|Mayumba\n",
      "Processing Record 10 of set 1|Anito\n",
      "Processing Record 11 of set 1|Tuktoyaktuk\n",
      "Processing Record 12 of set 1|Qaqortoq\n",
      "Processing Record 13 of set 1|Atuona\n",
      "Processing Record 14 of set 1|Kahului\n",
      "Processing Record 15 of set 1|Kirs\n",
      "Processing Record 16 of set 1|Beringovskiy\n",
      "Processing Record 17 of set 1|New Norfolk\n",
      "Processing Record 18 of set 1|Leningradskiy\n",
      "Processing Record 19 of set 1|Busselton\n",
      "City not found/Data missing.....skipping.\n",
      "Processing Record 20 of set 1|Punta Arenas\n",
      "Processing Record 21 of set 1|Pacific Grove\n",
      "Processing Record 22 of set 1|Barrow\n",
      "Processing Record 23 of set 1|Junqueirópolis\n",
      "Processing Record 24 of set 1|Adré\n",
      "Processing Record 25 of set 1|Ribeira Grande\n",
      "Processing Record 26 of set 1|Bereda\n",
      "Processing Record 27 of set 1|Dennery\n",
      "Processing Record 28 of set 1|Paso de los Toros\n",
      "City not found/Data missing.....skipping.\n",
      "Processing Record 29 of set 1|Albany\n",
      "Processing Record 30 of set 1|Tura\n",
      "Processing Record 31 of set 1|Half Moon Bay\n",
      "Processing Record 32 of set 1|Mataura\n",
      "Processing Record 33 of set 1|Chokurdakh\n",
      "Processing Record 34 of set 1|Ponta do Sol\n",
      "Processing Record 35 of set 1|Bredasdorp\n",
      "Processing Record 36 of set 1|Lebu\n",
      "Processing Record 37 of set 1|Puerto Ayora\n",
      "Processing Record 38 of set 1|Thompson\n",
      "Processing Record 39 of set 1|Saint George\n",
      "Processing Record 40 of set 1|Hobart\n",
      "Processing Record 41 of set 1|Borogontsy\n",
      "Processing Record 42 of set 1|San Patricio\n",
      "City not found/Data missing.....skipping.\n",
      "Processing Record 43 of set 1|Viedma\n",
      "Processing Record 44 of set 1|Arsk\n",
      "Processing Record 45 of set 1|Saldanha\n",
      "Processing Record 46 of set 1|Bambous Virieux\n",
      "Processing Record 47 of set 1|Havre-St-Pierre\n",
      "Processing Record 48 of set 1|Jiazi\n",
      "Processing Record 49 of set 1|Tasiilaq\n",
      "Processing Record 0 of set 2|Butaritari\n",
      "Processing Record 1 of set 2|Ghanzi\n",
      "Processing Record 2 of set 2|Sur\n",
      "Processing Record 3 of set 2|Rivera\n",
      "Processing Record 4 of set 2|Dikson\n",
      "Processing Record 5 of set 2|Kavaratti\n",
      "Processing Record 6 of set 2|Gwanda\n",
      "Processing Record 7 of set 2|Saint-Philippe\n",
      "Processing Record 8 of set 2|Castro\n",
      "Processing Record 9 of set 2|Kirovskiy\n",
      "Processing Record 10 of set 2|Volterra\n",
      "City not found/Data missing.....skipping.\n",
      "Processing Record 11 of set 2|Tuatapere\n",
      "Processing Record 12 of set 2|Junction City\n",
      "Processing Record 13 of set 2|George Town\n",
      "Processing Record 14 of set 2|Hofn\n",
      "Processing Record 15 of set 2|Nyurba\n",
      "Processing Record 16 of set 2|Miles City\n",
      "Processing Record 17 of set 2|Tak\n",
      "Processing Record 18 of set 2|Ancud\n",
      "Processing Record 19 of set 2|Provideniya\n",
      "City not found/Data missing.....skipping.\n",
      "Processing Record 20 of set 2|Port Elizabeth\n",
      "Processing Record 21 of set 2|Yellowknife\n",
      "Processing Record 22 of set 2|Geneva\n",
      "Processing Record 23 of set 2|Pangody\n",
      "Processing Record 24 of set 2|Rikitea\n",
      "Processing Record 25 of set 2|Nikolskoye\n",
      "Processing Record 26 of set 2|Airai\n",
      "Processing Record 27 of set 2|Kapaa\n",
      "Processing Record 28 of set 2|Kiryat Gat\n",
      "Processing Record 29 of set 2|Abapó\n",
      "Processing Record 30 of set 2|Bluff\n",
      "Processing Record 31 of set 2|Upernavik\n",
      "Processing Record 32 of set 2|Kaitangata\n",
      "Processing Record 33 of set 2|Nuuk\n",
      "Processing Record 34 of set 2|Piaçabuçu\n",
      "Processing Record 35 of set 2|Priyutnoye\n",
      "Processing Record 36 of set 2|Sovetskiy\n",
      "Processing Record 37 of set 2|Rosario\n",
      "Processing Record 38 of set 2|Saint-Pie\n",
      "Processing Record 39 of set 2|Saskylakh\n",
      "Processing Record 40 of set 2|Al'met'yevsk\n",
      "Processing Record 41 of set 2|Port Hardy\n",
      "Processing Record 42 of set 2|Port Alfred\n",
      "City not found/Data missing.....skipping.\n",
      "Processing Record 43 of set 2|Arraial do Cabo\n",
      "Processing Record 44 of set 2|Nador\n",
      "Processing Record 45 of set 2|Mar del Plata\n",
      "Processing Record 46 of set 2|Leh\n",
      "Processing Record 47 of set 2|Hudson Bay\n",
      "Processing Record 48 of set 2|Vaini\n",
      "Processing Record 49 of set 2|Ponta Porã\n",
      "Processing Record 0 of set 3|Erie\n",
      "City not found/Data missing.....skipping.\n",
      "Processing Record 1 of set 3|Coyhaique\n",
      "Processing Record 2 of set 3|Sabha\n",
      "Processing Record 3 of set 3|East London\n",
      "Processing Record 4 of set 3|Charyshskoye\n",
      "Processing Record 5 of set 3|Loa Janan\n",
      "Processing Record 6 of set 3|Najrān\n",
      "Processing Record 7 of set 3|Nemuro\n",
      "Processing Record 8 of set 3|Port Blair\n",
      "Processing Record 9 of set 3|Hammerfest\n",
      "Processing Record 10 of set 3|Two Hills\n",
      "Processing Record 11 of set 3|Bubaque\n",
      "Processing Record 12 of set 3|Puerto del Rosario\n",
      "Processing Record 13 of set 3|Muisne\n",
      "Processing Record 14 of set 3|College\n",
      "Processing Record 15 of set 3|Phan Thiet\n",
      "Processing Record 16 of set 3|Biak\n",
      "Processing Record 17 of set 3|Turukhansk\n",
      "Processing Record 18 of set 3|Tombouctou\n",
      "Processing Record 19 of set 3|Torbay\n",
      "Processing Record 20 of set 3|Lahat\n",
      "Processing Record 21 of set 3|Corat\n",
      "Processing Record 22 of set 3|Iskandar\n",
      "Processing Record 23 of set 3|Carnarvon\n",
      "Processing Record 24 of set 3|Payo\n",
      "Processing Record 25 of set 3|Roald\n",
      "Processing Record 26 of set 3|Cabo San Lucas\n",
      "Processing Record 27 of set 3|Coquimbo\n",
      "Processing Record 28 of set 3|Puerto Peñasco\n",
      "Processing Record 29 of set 3|Bathsheba\n",
      "City not found/Data missing.....skipping.\n",
      "Processing Record 30 of set 3|Jacareacanga\n",
      "Processing Record 31 of set 3|Üllő\n",
      "Processing Record 32 of set 3|Magadan\n",
      "Processing Record 33 of set 3|Kieta\n",
      "Processing Record 34 of set 3|Meulaboh\n",
      "Processing Record 35 of set 3|Mahébourg\n",
      "Processing Record 36 of set 3|Omboué\n",
      "Processing Record 37 of set 3|Jamestown\n",
      "Processing Record 38 of set 3|Khāsh\n",
      "Processing Record 39 of set 3|Hong Kong\n",
      "Processing Record 40 of set 3|Grand Gaube\n",
      "Processing Record 41 of set 3|Kamenka\n",
      "Processing Record 42 of set 3|Kjøpsvik\n",
      "City not found/Data missing.....skipping.\n",
      "Processing Record 43 of set 3|Pangnirtung\n",
      "Processing Record 44 of set 3|Tres Arroyos\n",
      "Processing Record 45 of set 3|Salalah\n",
      "Processing Record 46 of set 3|Cananéia\n",
      "Processing Record 47 of set 3|Sørland\n",
      "Processing Record 48 of set 3|Barreirinhas\n",
      "Processing Record 49 of set 3|Cockburn Town\n",
      "Processing Record 0 of set 4|Assiut\n",
      "Processing Record 1 of set 4|Zheleznodorozhnyy\n",
      "Processing Record 2 of set 4|Bang Saphan\n",
      "Processing Record 3 of set 4|Port Hedland\n",
      "Processing Record 4 of set 4|Hasaki\n",
      "Processing Record 5 of set 4|Dauphin\n",
      "City not found/Data missing.....skipping.\n",
      "Processing Record 6 of set 4|Iqaluit\n",
      "Processing Record 7 of set 4|Batagay-Alyta\n",
      "Processing Record 8 of set 4|Chimbote\n",
      "Processing Record 9 of set 4|Sarana\n",
      "Processing Record 10 of set 4|Port Lincoln\n",
      "Processing Record 11 of set 4|Camacha\n",
      "Processing Record 12 of set 4|Dwārka\n",
      "Processing Record 13 of set 4|Henties Bay\n",
      "Processing Record 14 of set 4|Saint Paul Harbor\n",
      "Processing Record 15 of set 4|Vila Franca do Campo\n",
      "Processing Record 16 of set 4|Praia\n",
      "Processing Record 17 of set 4|Nome\n",
      "Processing Record 18 of set 4|Oistins\n",
      "Processing Record 19 of set 4|Derzhavīnsk\n",
      "City not found/Data missing.....skipping.\n",
      "Processing Record 20 of set 4|Hithadhoo\n",
      "Processing Record 21 of set 4|Boyolangu\n",
      "City not found/Data missing.....skipping.\n",
      "Processing Record 22 of set 4|Guerrero Negro\n",
      "Processing Record 23 of set 4|Boden\n",
      "Processing Record 24 of set 4|Ribeira Brava\n",
      "Processing Record 25 of set 4|Lafiagi\n",
      "Processing Record 26 of set 4|Severo-Kuril'sk\n",
      "Processing Record 27 of set 4|Kyrylivka\n",
      "Processing Record 28 of set 4|Lagoa\n",
      "Processing Record 29 of set 4|Grindavik\n",
      "Processing Record 30 of set 4|Balkhash\n",
      "Processing Record 31 of set 4|Yashan\n",
      "Processing Record 32 of set 4|Beloha\n",
      "Processing Record 33 of set 4|Songyuan\n",
      "City not found/Data missing.....skipping.\n",
      "Processing Record 34 of set 4|Banda Aceh\n",
      "Processing Record 35 of set 4|Necochea\n",
      "Processing Record 36 of set 4|Sioux Lookout\n",
      "Processing Record 37 of set 4|Chumikan\n",
      "Processing Record 38 of set 4|Dudinka\n",
      "Processing Record 39 of set 4|Lázaro Cárdenas\n",
      "Processing Record 40 of set 4|Longyearbyen\n",
      "Processing Record 41 of set 4|Mount Gambier\n",
      "Processing Record 42 of set 4|Vardø\n",
      "Processing Record 43 of set 4|Khatanga\n"
     ]
    },
    {
     "name": "stdout",
     "output_type": "stream",
     "text": [
      "Processing Record 44 of set 4|Vera Cruz\n",
      "Processing Record 45 of set 4|Andenes\n",
      "Processing Record 46 of set 4|Upata\n",
      "Processing Record 47 of set 4|Adjumani\n",
      "City not found/Data missing.....skipping.\n",
      "Processing Record 48 of set 4|Jiayuguan City\n",
      "Processing Record 49 of set 4|Pinega\n",
      "Processing Record 0 of set 5|Sobreira\n",
      "Processing Record 1 of set 5|Alofi\n",
      "Processing Record 2 of set 5|Kindia\n",
      "Processing Record 3 of set 5|Yulara\n",
      "Processing Record 4 of set 5|Thinadhoo\n",
      "Processing Record 5 of set 5|Kachīry\n",
      "Processing Record 6 of set 5|Northam\n",
      "Processing Record 7 of set 5|Barkly West\n",
      "Processing Record 8 of set 5|Corrente\n",
      "City not found/Data missing.....skipping.\n",
      "Processing Record 9 of set 5|Mildura\n",
      "City not found/Data missing.....skipping.\n",
      "City not found/Data missing.....skipping.\n",
      "Processing Record 10 of set 5|Mutoko\n",
      "Processing Record 11 of set 5|Mehamn\n",
      "Processing Record 12 of set 5|General Roca\n",
      "Processing Record 13 of set 5|Abay\n",
      "Processing Record 14 of set 5|Hualmay\n",
      "Processing Record 15 of set 5|Kirakira\n",
      "City not found/Data missing.....skipping.\n",
      "Processing Record 16 of set 5|Kumul\n",
      "Processing Record 17 of set 5|Narasannapeta\n",
      "Processing Record 18 of set 5|Namikupa\n",
      "Processing Record 19 of set 5|Isangel\n",
      "Processing Record 20 of set 5|Quatre Cocos\n",
      "Processing Record 21 of set 5|Fortuna\n",
      "Processing Record 22 of set 5|Vanimo\n",
      "City not found/Data missing.....skipping.\n",
      "City not found/Data missing.....skipping.\n",
      "Processing Record 23 of set 5|Vicuña\n",
      "Processing Record 24 of set 5|Orahovac\n",
      "City not found/Data missing.....skipping.\n",
      "Processing Record 25 of set 5|Huancavelica\n",
      "Processing Record 26 of set 5|Loíza\n",
      "Processing Record 27 of set 5|Kongolo\n",
      "Processing Record 28 of set 5|Mogadishu\n",
      "Processing Record 29 of set 5|San Quintín\n",
      "Processing Record 30 of set 5|Kenora\n",
      "Processing Record 31 of set 5|Gaogou\n",
      "Processing Record 32 of set 5|Uruçuí\n",
      "Processing Record 33 of set 5|Kruisfontein\n",
      "Processing Record 34 of set 5|Codrington\n",
      "Processing Record 35 of set 5|Lavrentiya\n",
      "Processing Record 36 of set 5|Faanui\n",
      "Processing Record 37 of set 5|Dunedin\n",
      "City not found/Data missing.....skipping.\n",
      "Processing Record 38 of set 5|Medenychi\n",
      "Processing Record 39 of set 5|Deputatsky\n",
      "Processing Record 40 of set 5|Broome\n",
      "Processing Record 41 of set 5|Ilulissat\n",
      "Processing Record 42 of set 5|Hervey Bay\n",
      "Processing Record 43 of set 5|Stornoway\n",
      "Processing Record 44 of set 5|Muriwai Beach\n",
      "Processing Record 45 of set 5|Yelkhovka\n",
      "City not found/Data missing.....skipping.\n",
      "Processing Record 46 of set 5|Carroll\n",
      "Processing Record 47 of set 5|Melilla\n",
      "Processing Record 48 of set 5|Haines Junction\n",
      "Processing Record 49 of set 5|Luzhou\n",
      "Processing Record 0 of set 6|Puerto Escondido\n",
      "Processing Record 1 of set 6|Kawalu\n",
      "Processing Record 2 of set 6|Avarua\n",
      "Processing Record 3 of set 6|Bengkulu\n",
      "Processing Record 4 of set 6|Caravelas\n",
      "Processing Record 5 of set 6|Klaksvík\n",
      "Processing Record 6 of set 6|Flinders\n",
      "Processing Record 7 of set 6|São Filipe\n",
      "Processing Record 8 of set 6|Srednekolymsk\n",
      "Processing Record 9 of set 6|Bethel\n",
      "Processing Record 10 of set 6|Barra do Garças\n",
      "Processing Record 11 of set 6|Carahue\n",
      "Processing Record 12 of set 6|Zatoka\n",
      "Processing Record 13 of set 6|Sesheke\n",
      "Processing Record 14 of set 6|Geraldton\n",
      "City not found/Data missing.....skipping.\n",
      "Processing Record 15 of set 6|Egvekinot\n",
      "City not found/Data missing.....skipping.\n",
      "City not found/Data missing.....skipping.\n",
      "Processing Record 16 of set 6|Caconda\n",
      "Processing Record 17 of set 6|Sebastian\n",
      "Processing Record 18 of set 6|Avera\n",
      "Processing Record 19 of set 6|Tiksi\n",
      "Processing Record 20 of set 6|Vostok\n",
      "Processing Record 21 of set 6|Jaciara\n",
      "Processing Record 22 of set 6|Chivay\n",
      "Processing Record 23 of set 6|Yangon\n",
      "Processing Record 24 of set 6|Lompoc\n",
      "Processing Record 25 of set 6|Chui\n",
      "Processing Record 26 of set 6|Mongo\n",
      "Processing Record 27 of set 6|Kimbe\n",
      "Processing Record 28 of set 6|Uyemskiy\n",
      "Processing Record 29 of set 6|Shunyi\n",
      "Processing Record 30 of set 6|Waipawa\n",
      "Processing Record 31 of set 6|Carballo\n",
      "Processing Record 32 of set 6|Cervo\n",
      "Processing Record 33 of set 6|Marawi\n",
      "Processing Record 34 of set 6|Uray\n",
      "Processing Record 35 of set 6|Luang Prabang\n",
      "Processing Record 36 of set 6|São Desidério\n",
      "Processing Record 37 of set 6|Aklavik\n",
      "Processing Record 38 of set 6|Oktyabr'skiy\n",
      "Processing Record 39 of set 6|Sampit\n",
      "Processing Record 40 of set 6|Russell\n",
      "Processing Record 41 of set 6|Saint-Pierre\n",
      "Processing Record 42 of set 6|Cururupu\n",
      "Processing Record 43 of set 6|Shaoyang\n",
      "Processing Record 44 of set 6|Sinnamary\n",
      "Processing Record 45 of set 6|Richards Bay\n",
      "Processing Record 46 of set 6|Clyde River\n",
      "Processing Record 47 of set 6|Santarém\n",
      "Processing Record 48 of set 6|Viranşehir\n",
      "Processing Record 49 of set 6|Norman Wells\n",
      "Processing Record 0 of set 7|Dibulla\n",
      "Processing Record 1 of set 7|Kaa-Khem\n",
      "Processing Record 2 of set 7|Pindobaçu\n",
      "Processing Record 3 of set 7|Sorong\n",
      "Processing Record 4 of set 7|Nautanwa\n",
      "Processing Record 5 of set 7|Bentiu\n",
      "Processing Record 6 of set 7|Gambēla\n",
      "Processing Record 7 of set 7|Vestmannaeyjar\n",
      "Processing Record 8 of set 7|Hambantota\n",
      "Processing Record 9 of set 7|Saint-Joseph\n",
      "Processing Record 10 of set 7|Husavik\n",
      "Processing Record 11 of set 7|Lamlash\n",
      "Processing Record 12 of set 7|Kenai\n",
      "Processing Record 13 of set 7|Lüderitz\n",
      "Processing Record 14 of set 7|Santiago\n",
      "Processing Record 15 of set 7|Pochutla\n",
      "Processing Record 16 of set 7|Anadyr\n",
      "Processing Record 17 of set 7|San Cristobal\n",
      "Processing Record 18 of set 7|Buchanan\n",
      "Processing Record 19 of set 7|Owando\n",
      "Processing Record 20 of set 7|Ostrovnoy\n",
      "Processing Record 21 of set 7|Santa Helena de Goiás\n",
      "Processing Record 22 of set 7|Ōdachō-ōda\n",
      "Processing Record 23 of set 7|Bambanglipuro\n",
      "City not found/Data missing.....skipping.\n",
      "City not found/Data missing.....skipping.\n",
      "Processing Record 24 of set 7|Byron Bay\n",
      "Processing Record 25 of set 7|Batemans Bay\n",
      "Processing Record 26 of set 7|Oodweyne\n",
      "City not found/Data missing.....skipping.\n",
      "Processing Record 27 of set 7|Fairbanks\n",
      "City not found/Data missing.....skipping.\n",
      "Processing Record 28 of set 7|Maceió\n",
      "Processing Record 29 of set 7|Manokwari\n",
      "Processing Record 30 of set 7|Novy Urengoy\n",
      "Processing Record 31 of set 7|Tauranga\n",
      "Processing Record 32 of set 7|Constitución\n",
      "Processing Record 33 of set 7|Mackay\n",
      "Processing Record 34 of set 7|Mount Isa\n",
      "Processing Record 35 of set 7|La Rioja\n",
      "Processing Record 36 of set 7|Corrales\n",
      "Processing Record 37 of set 7|Sfântu Gheorghe\n",
      "Processing Record 38 of set 7|Oddur\n",
      "Processing Record 39 of set 7|Sydney\n",
      "City not found/Data missing.....skipping.\n",
      "City not found/Data missing.....skipping.\n",
      "Processing Record 40 of set 7|Sandwick\n",
      "Processing Record 41 of set 7|Lar\n",
      "City not found/Data missing.....skipping.\n",
      "Processing Record 42 of set 7|Bilma\n",
      "Processing Record 43 of set 7|Sambava\n",
      "Processing Record 44 of set 7|Shatsk\n",
      "Processing Record 45 of set 7|Verkhnyaya Inta\n",
      "Processing Record 46 of set 7|Buritis\n",
      "City not found/Data missing.....skipping.\n",
      "Processing Record 47 of set 7|Raudeberg\n",
      "Processing Record 48 of set 7|Rong Kwang\n",
      "Processing Record 49 of set 7|São Miguel do Araguaia\n",
      "Processing Record 0 of set 8|Tessalit\n",
      "Processing Record 1 of set 8|Ouadda\n",
      "Processing Record 2 of set 8|São João da Barra\n",
      "Processing Record 3 of set 8|Adrar\n",
      "Processing Record 4 of set 8|Kambove\n",
      "Processing Record 5 of set 8|Los Llanos de Aridane\n",
      "Processing Record 6 of set 8|Kutum\n",
      "Processing Record 7 of set 8|Sayán\n",
      "Processing Record 8 of set 8|Bontang\n",
      "Processing Record 9 of set 8|Saint Anthony\n",
      "Processing Record 10 of set 8|Tommot\n",
      "Processing Record 11 of set 8|Corinth\n",
      "Processing Record 12 of set 8|Pisco\n",
      "City not found/Data missing.....skipping.\n",
      "Processing Record 13 of set 8|Monrovia\n",
      "Processing Record 14 of set 8|Bima\n",
      "Processing Record 15 of set 8|Narsaq\n",
      "Processing Record 16 of set 8|Gushikawa\n",
      "Processing Record 17 of set 8|Rawson\n",
      "Processing Record 18 of set 8|Makīnsk\n",
      "Processing Record 19 of set 8|Podkletnoye\n",
      "Processing Record 20 of set 8|Jaru\n",
      "Processing Record 21 of set 8|Novyy Yegorlyk\n",
      "Processing Record 22 of set 8|Mana\n",
      "Processing Record 23 of set 8|Dingle\n",
      "Processing Record 24 of set 8|Gillette\n",
      "Processing Record 25 of set 8|Kyshtovka\n",
      "Processing Record 26 of set 8|Mandalgovi\n",
      "Processing Record 27 of set 8|Naryan-Mar\n",
      "Processing Record 28 of set 8|Le Vauclin\n",
      "Processing Record 29 of set 8|Hobyo\n"
     ]
    },
    {
     "name": "stdout",
     "output_type": "stream",
     "text": [
      "Processing Record 30 of set 8|Hamilton\n",
      "Processing Record 31 of set 8|Port Moresby\n",
      "Processing Record 32 of set 8|Tandil\n",
      "Processing Record 33 of set 8|Banff\n",
      "Processing Record 34 of set 8|Tiznit Province\n",
      "Processing Record 35 of set 8|Baicheng\n",
      "Processing Record 36 of set 8|Tiarei\n",
      "Processing Record 37 of set 8|Santa Isabel\n",
      "Processing Record 38 of set 8|Sitka\n",
      "Processing Record 39 of set 8|Chimbarongo\n",
      "Processing Record 40 of set 8|Qui Nhon\n",
      "Processing Record 41 of set 8|Nanortalik\n",
      "Processing Record 42 of set 8|Requena\n",
      "Processing Record 43 of set 8|Inuvik\n",
      "Processing Record 44 of set 8|Ixtapa\n",
      "Processing Record 45 of set 8|Osterburg\n",
      "Processing Record 46 of set 8|Belyy Yar\n",
      "Processing Record 47 of set 8|Barabinsk\n",
      "Processing Record 48 of set 8|Padang\n",
      "Processing Record 49 of set 8|Hellvik\n",
      "Processing Record 0 of set 9|Jérémie\n",
      "Processing Record 1 of set 9|Dubbo\n",
      "Processing Record 2 of set 9|Kyzyl-Suu\n",
      "Processing Record 3 of set 9|Golčův Jeníkov\n",
      "Processing Record 4 of set 9|Dumas\n",
      "Processing Record 5 of set 9|Imeni Poliny Osipenko\n",
      "Processing Record 6 of set 9|Teya\n",
      "Processing Record 7 of set 9|Sal Rei\n",
      "Processing Record 8 of set 9|Ponta Delgada\n",
      "City not found/Data missing.....skipping.\n",
      "Processing Record 9 of set 9|Erzin\n",
      "Processing Record 10 of set 9|Rio Grande\n",
      "Processing Record 11 of set 9|Yar-Sale\n",
      "Processing Record 12 of set 9|Sangar\n",
      "Processing Record 13 of set 9|Atoyac\n",
      "Processing Record 14 of set 9|San Vicente\n",
      "Processing Record 15 of set 9|Māgadi\n",
      "Processing Record 16 of set 9|Baruun-Urt\n",
      "Processing Record 17 of set 9|Bitam\n",
      "Processing Record 18 of set 9|Praia da Vitória\n",
      "Processing Record 19 of set 9|Cidreira\n",
      "Processing Record 20 of set 9|Lewisporte\n",
      "Processing Record 21 of set 9|Abu Dhabi\n",
      "Processing Record 22 of set 9|Camaná\n",
      "Processing Record 23 of set 9|Wenling\n",
      "Processing Record 24 of set 9|Petropavlovsk-Kamchatskiy\n",
      "Processing Record 25 of set 9|The Valley\n",
      "Processing Record 26 of set 9|Svetlaya\n",
      "Processing Record 27 of set 9|Jalu\n",
      "Processing Record 28 of set 9|Westport\n",
      "Processing Record 29 of set 9|Lapua\n",
      "Processing Record 30 of set 9|Potam\n",
      "City not found/Data missing.....skipping.\n",
      "Processing Record 31 of set 9|Zhangzhou\n",
      "Processing Record 32 of set 9|Kudahuvadhoo\n",
      "Processing Record 33 of set 9|Nouakchott\n",
      "Processing Record 34 of set 9|Poum\n",
      "Processing Record 35 of set 9|Naze\n",
      "Processing Record 36 of set 9|Puerto Ayacucho\n",
      "Processing Record 37 of set 9|Chifeng\n",
      "City not found/Data missing.....skipping.\n",
      "Processing Record 38 of set 9|Lebyazh'ye\n",
      "Processing Record 39 of set 9|Lucera\n",
      "Processing Record 40 of set 9|Kampong Thom\n",
      "Processing Record 41 of set 9|Humaitá\n",
      "Processing Record 42 of set 9|Flin Flon\n",
      "City not found/Data missing.....skipping.\n",
      "Processing Record 43 of set 9|Touros\n",
      "Processing Record 44 of set 9|Severnyy\n",
      "Processing Record 45 of set 9|Bandarbeyla\n",
      "City not found/Data missing.....skipping.\n",
      "Processing Record 46 of set 9|Lyuban'\n",
      "Processing Record 47 of set 9|Dulyapino\n",
      "Processing Record 48 of set 9|Kompaniyivka\n",
      "Processing Record 49 of set 9|Ndélé\n",
      "Processing Record 0 of set 10|Tibati\n",
      "Processing Record 1 of set 10|Dauriya\n",
      "Processing Record 2 of set 10|Nouadhibou\n",
      "Processing Record 3 of set 10|Laguna\n",
      "City not found/Data missing.....skipping.\n",
      "Processing Record 4 of set 10|Cherskiy\n",
      "Processing Record 5 of set 10|Puerto Quijarro\n",
      "Processing Record 6 of set 10|High Level\n",
      "Processing Record 7 of set 10|Jizan\n",
      "Processing Record 8 of set 10|Riyadh\n",
      "Processing Record 9 of set 10|Olafsvik\n",
      "Processing Record 10 of set 10|Nhulunbuy\n",
      "Processing Record 11 of set 10|Sulphur Springs\n",
      "Processing Record 12 of set 10|Road Town\n",
      "Processing Record 13 of set 10|Saint-Augustin\n",
      "Processing Record 14 of set 10|Nelson Bay\n",
      "Processing Record 15 of set 10|Pinerovka\n",
      "Processing Record 16 of set 10|Novonukutskiy\n",
      "Processing Record 17 of set 10|Emilio Carranza\n",
      "Processing Record 18 of set 10|Talnakh\n",
      "Processing Record 19 of set 10|Kloulklubed\n",
      "Processing Record 20 of set 10|Margate\n",
      "Processing Record 21 of set 10|Charters Towers\n",
      "Processing Record 22 of set 10|Malvern\n",
      "Processing Record 23 of set 10|Chapais\n",
      "Processing Record 24 of set 10|Horsham\n",
      "Processing Record 25 of set 10|Ormara\n",
      "Processing Record 26 of set 10|Lima\n",
      "Processing Record 27 of set 10|Katubao\n",
      "Processing Record 28 of set 10|Valdivia\n",
      "Processing Record 29 of set 10|Mugur-Aksy\n",
      "Processing Record 30 of set 10|Poya\n",
      "Processing Record 31 of set 10|Huejuquilla el Alto\n",
      "Processing Record 32 of set 10|Bara\n",
      "Processing Record 33 of set 10|Nampula\n",
      "Processing Record 34 of set 10|Sechura\n",
      "Processing Record 35 of set 10|Badvel\n",
      "Processing Record 36 of set 10|Barbastro\n",
      "Processing Record 37 of set 10|São José da Coroa Grande\n",
      "Processing Record 38 of set 10|Vrangel'\n",
      "Processing Record 39 of set 10|Bamako\n",
      "Processing Record 40 of set 10|Wajima\n",
      "Processing Record 41 of set 10|North Myrtle Beach\n",
      "Processing Record 42 of set 10|Senekal\n",
      "Processing Record 43 of set 10|Karatau\n",
      "Processing Record 44 of set 10|Popondetta\n",
      "Processing Record 45 of set 10|Villa Bruzual\n",
      "Processing Record 46 of set 10|Pagudpud\n",
      "Processing Record 47 of set 10|Bonfim\n",
      "Processing Record 48 of set 10|Kishorganj\n",
      "City not found/Data missing.....skipping.\n",
      "Processing Record 49 of set 10|Howard Springs\n",
      "Processing Record 0 of set 11|Seydi\n",
      "Processing Record 1 of set 11|Manzhouli\n",
      "Processing Record 2 of set 11|Todos Santos\n",
      "Processing Record 3 of set 11|Calabozo\n",
      "Processing Record 4 of set 11|Atasū\n",
      "Processing Record 5 of set 11|Santa Isabel Rio Negro\n",
      "Processing Record 6 of set 11|Nyazepetrovsk\n",
      "City not found/Data missing.....skipping.\n",
      "Processing Record 7 of set 11|São Félix do Xingu\n",
      "Processing Record 8 of set 11|La Santisima Trinidad\n",
      "Processing Record 9 of set 11|Faya\n",
      "Processing Record 10 of set 11|Chase\n",
      "Processing Record 11 of set 11|Great Yarmouth\n",
      "Processing Record 12 of set 11|Asău\n",
      "Processing Record 13 of set 11|Chernyshevskiy\n",
      "Processing Record 14 of set 11|Calvinia\n",
      "City not found/Data missing.....skipping.\n",
      "Processing Record 15 of set 11|Jaqué\n",
      "Processing Record 16 of set 11|Cranbrook\n",
      "Processing Record 17 of set 11|Borūjerd\n",
      "Processing Record 18 of set 11|Ca Mau\n",
      "Processing Record 19 of set 11|Bushehr\n",
      "Processing Record 20 of set 11|Vangaindrano\n",
      "Processing Record 21 of set 11|Aden\n",
      "Processing Record 22 of set 11|Swan Hill\n",
      "Processing Record 23 of set 11|Tautira\n",
      "Processing Record 24 of set 11|Hay River\n",
      "City not found/Data missing.....skipping.\n",
      "Processing Record 25 of set 11|Mayo\n",
      "Processing Record 26 of set 11|Hwange\n",
      "Processing Record 27 of set 11|Vojens\n",
      "Processing Record 28 of set 11|Umluj\n",
      "Processing Record 29 of set 11|Livno\n",
      "Processing Record 30 of set 11|Boa Vista\n",
      "Processing Record 31 of set 11|Kikwit\n",
      "Processing Record 32 of set 11|Kpandu\n",
      "Processing Record 33 of set 11|Duku\n",
      "Processing Record 34 of set 11|Dandong\n",
      "Processing Record 35 of set 11|Banyo\n",
      "Processing Record 36 of set 11|Krabi\n",
      "Processing Record 37 of set 11|Huarmey\n",
      "Processing Record 38 of set 11|Sainte-Agathe-des-Monts\n",
      "Processing Record 39 of set 11|Shimoda\n",
      "Processing Record 40 of set 11|Simao\n",
      "Processing Record 41 of set 11|Parksville\n",
      "Processing Record 42 of set 11|Antsohihy\n",
      "Processing Record 43 of set 11|Solnechnyy\n",
      "Processing Record 44 of set 11|Vammala\n",
      "Processing Record 45 of set 11|Ambilobe\n",
      "Processing Record 46 of set 11|Calabar\n",
      "Processing Record 47 of set 11|Vieques\n",
      "Processing Record 48 of set 11|Vallenar\n",
      "Processing Record 49 of set 11|Tartous\n",
      "Processing Record 0 of set 12|Salinas\n",
      "Processing Record 1 of set 12|Itarema\n",
      "------------------------------\n",
      "Data Retrieval Complete  \n",
      "------------------------------\n"
     ]
    }
   ],
   "source": [
    "i=0\n",
    "j=1\n",
    "\n",
    "for index, row in CityData.iterrows():\n",
    "    response=requests.get(query_url+row['City']).json()\n",
    "\n",
    "    try:\n",
    "        if i<49:\n",
    "            i=i+1\n",
    "        else:\n",
    "            i=0\n",
    "            j=j+1\n",
    "        print(f'Processing Record {i} of set {j}|'+response['name'])\n",
    "        CityData.loc[index,'Lat']=(response['coord']['lat'])\n",
    "        CityData.loc[index,'Lng']=(response['coord']['lon'])\n",
    "        CityData.loc[index,'Max Temp']=response['main']['temp_max']\n",
    "        CityData.loc[index,'Humidity']=response['main']['humidity']\n",
    "        CityData.loc[index,'Cloudiness']=response['clouds']['all']\n",
    "        CityData.loc[index,'Wind Speed']=response['wind']['speed']\n",
    "        CityData.loc[index,'Country']=response['sys']['country']\n",
    "        CityData.loc[index,'Date']=response['dt']\n",
    "    \n",
    "    except (KeyError, IndexError):\n",
    "        print(\"City not found/Data missing.....skipping.\")\n",
    "        i=i-1\n",
    "\n",
    "        \n",
    "print(\"-\"*30)\n",
    "print(f'Data Retrieval Complete  ')\n",
    "print(\"-\"*30)"
   ]
  },
  {
   "cell_type": "markdown",
   "metadata": {},
   "source": [
    "### Convert Raw Data to DataFrame\n",
    "* Export the city data into a .csv.\n",
    "* Display the DataFrame"
   ]
  },
  {
   "cell_type": "code",
   "execution_count": 6,
   "metadata": {},
   "outputs": [
    {
     "data": {
      "text/html": [
       "<div>\n",
       "<style scoped>\n",
       "    .dataframe tbody tr th:only-of-type {\n",
       "        vertical-align: middle;\n",
       "    }\n",
       "\n",
       "    .dataframe tbody tr th {\n",
       "        vertical-align: top;\n",
       "    }\n",
       "\n",
       "    .dataframe thead th {\n",
       "        text-align: right;\n",
       "    }\n",
       "</style>\n",
       "<table border=\"1\" class=\"dataframe\">\n",
       "  <thead>\n",
       "    <tr style=\"text-align: right;\">\n",
       "      <th></th>\n",
       "      <th>City ID</th>\n",
       "      <th>City</th>\n",
       "      <th>Lat</th>\n",
       "      <th>Lng</th>\n",
       "      <th>Max Temp</th>\n",
       "      <th>Humidity</th>\n",
       "      <th>Cloudiness</th>\n",
       "      <th>Wind Speed</th>\n",
       "      <th>Country</th>\n",
       "      <th>Date</th>\n",
       "    </tr>\n",
       "  </thead>\n",
       "  <tbody>\n",
       "    <tr>\n",
       "      <th>0</th>\n",
       "      <td>0</td>\n",
       "      <td>pevek</td>\n",
       "      <td>69.7008</td>\n",
       "      <td>170.313</td>\n",
       "      <td>0.57</td>\n",
       "      <td>90</td>\n",
       "      <td>100</td>\n",
       "      <td>3.36</td>\n",
       "      <td>RU</td>\n",
       "      <td>1659944642</td>\n",
       "    </tr>\n",
       "    <tr>\n",
       "      <th>1</th>\n",
       "      <td>1</td>\n",
       "      <td>zhigansk</td>\n",
       "      <td>66.7697</td>\n",
       "      <td>123.371</td>\n",
       "      <td>16.06</td>\n",
       "      <td>63</td>\n",
       "      <td>100</td>\n",
       "      <td>5.2</td>\n",
       "      <td>RU</td>\n",
       "      <td>1659944643</td>\n",
       "    </tr>\n",
       "    <tr>\n",
       "      <th>2</th>\n",
       "      <td>2</td>\n",
       "      <td>hermanus</td>\n",
       "      <td>-34.4187</td>\n",
       "      <td>19.2345</td>\n",
       "      <td>13.78</td>\n",
       "      <td>75</td>\n",
       "      <td>40</td>\n",
       "      <td>1.11</td>\n",
       "      <td>ZA</td>\n",
       "      <td>1659944645</td>\n",
       "    </tr>\n",
       "    <tr>\n",
       "      <th>3</th>\n",
       "      <td>3</td>\n",
       "      <td>qaanaaq</td>\n",
       "      <td>77.484</td>\n",
       "      <td>-69.3632</td>\n",
       "      <td>1.97</td>\n",
       "      <td>61</td>\n",
       "      <td>94</td>\n",
       "      <td>2.6</td>\n",
       "      <td>GL</td>\n",
       "      <td>1659944645</td>\n",
       "    </tr>\n",
       "    <tr>\n",
       "      <th>4</th>\n",
       "      <td>4</td>\n",
       "      <td>ushuaia</td>\n",
       "      <td>-54.8</td>\n",
       "      <td>-68.3</td>\n",
       "      <td>0.81</td>\n",
       "      <td>64</td>\n",
       "      <td>20</td>\n",
       "      <td>0.51</td>\n",
       "      <td>AR</td>\n",
       "      <td>1659944646</td>\n",
       "    </tr>\n",
       "    <tr>\n",
       "      <th>...</th>\n",
       "      <td>...</td>\n",
       "      <td>...</td>\n",
       "      <td>...</td>\n",
       "      <td>...</td>\n",
       "      <td>...</td>\n",
       "      <td>...</td>\n",
       "      <td>...</td>\n",
       "      <td>...</td>\n",
       "      <td>...</td>\n",
       "      <td>...</td>\n",
       "    </tr>\n",
       "    <tr>\n",
       "      <th>546</th>\n",
       "      <td>546</td>\n",
       "      <td>vieques</td>\n",
       "      <td>18.425</td>\n",
       "      <td>-65.8329</td>\n",
       "      <td>28.01</td>\n",
       "      <td>78</td>\n",
       "      <td>40</td>\n",
       "      <td>5.66</td>\n",
       "      <td>PR</td>\n",
       "      <td>1659945225</td>\n",
       "    </tr>\n",
       "    <tr>\n",
       "      <th>547</th>\n",
       "      <td>547</td>\n",
       "      <td>vallenar</td>\n",
       "      <td>-28.5708</td>\n",
       "      <td>-70.7581</td>\n",
       "      <td>12.56</td>\n",
       "      <td>46</td>\n",
       "      <td>87</td>\n",
       "      <td>2.31</td>\n",
       "      <td>CL</td>\n",
       "      <td>1659945226</td>\n",
       "    </tr>\n",
       "    <tr>\n",
       "      <th>548</th>\n",
       "      <td>548</td>\n",
       "      <td>tartus</td>\n",
       "      <td>34.889</td>\n",
       "      <td>35.8866</td>\n",
       "      <td>28.39</td>\n",
       "      <td>59</td>\n",
       "      <td>0</td>\n",
       "      <td>5.57</td>\n",
       "      <td>SY</td>\n",
       "      <td>1659945227</td>\n",
       "    </tr>\n",
       "    <tr>\n",
       "      <th>549</th>\n",
       "      <td>549</td>\n",
       "      <td>salinas</td>\n",
       "      <td>36.6777</td>\n",
       "      <td>-121.656</td>\n",
       "      <td>17.29</td>\n",
       "      <td>79</td>\n",
       "      <td>0</td>\n",
       "      <td>3.09</td>\n",
       "      <td>US</td>\n",
       "      <td>1659945082</td>\n",
       "    </tr>\n",
       "    <tr>\n",
       "      <th>550</th>\n",
       "      <td>550</td>\n",
       "      <td>itarema</td>\n",
       "      <td>-2.9248</td>\n",
       "      <td>-39.9167</td>\n",
       "      <td>23.74</td>\n",
       "      <td>86</td>\n",
       "      <td>4</td>\n",
       "      <td>6.88</td>\n",
       "      <td>BR</td>\n",
       "      <td>1659945229</td>\n",
       "    </tr>\n",
       "  </tbody>\n",
       "</table>\n",
       "<p>551 rows × 10 columns</p>\n",
       "</div>"
      ],
      "text/plain": [
       "     City ID      City      Lat      Lng Max Temp Humidity Cloudiness  \\\n",
       "0          0     pevek  69.7008  170.313     0.57       90        100   \n",
       "1          1  zhigansk  66.7697  123.371    16.06       63        100   \n",
       "2          2  hermanus -34.4187  19.2345    13.78       75         40   \n",
       "3          3   qaanaaq   77.484 -69.3632     1.97       61         94   \n",
       "4          4   ushuaia    -54.8    -68.3     0.81       64         20   \n",
       "..       ...       ...      ...      ...      ...      ...        ...   \n",
       "546      546   vieques   18.425 -65.8329    28.01       78         40   \n",
       "547      547  vallenar -28.5708 -70.7581    12.56       46         87   \n",
       "548      548    tartus   34.889  35.8866    28.39       59          0   \n",
       "549      549   salinas  36.6777 -121.656    17.29       79          0   \n",
       "550      550   itarema  -2.9248 -39.9167    23.74       86          4   \n",
       "\n",
       "    Wind Speed Country        Date  \n",
       "0         3.36      RU  1659944642  \n",
       "1          5.2      RU  1659944643  \n",
       "2         1.11      ZA  1659944645  \n",
       "3          2.6      GL  1659944645  \n",
       "4         0.51      AR  1659944646  \n",
       "..         ...     ...         ...  \n",
       "546       5.66      PR  1659945225  \n",
       "547       2.31      CL  1659945226  \n",
       "548       5.57      SY  1659945227  \n",
       "549       3.09      US  1659945082  \n",
       "550       6.88      BR  1659945229  \n",
       "\n",
       "[551 rows x 10 columns]"
      ]
     },
     "execution_count": 6,
     "metadata": {},
     "output_type": "execute_result"
    }
   ],
   "source": [
    "CityData=CityData.dropna(how='any')\n",
    "CityData=((CityData.reset_index(drop=True)).reset_index()).rename(columns={'index':'City ID'})\n",
    "CityData.to_csv('Output Data/CityData.csv',encoding='utf-8',index=False)\n",
    "CityData"
   ]
  },
  {
   "cell_type": "code",
   "execution_count": 7,
   "metadata": {},
   "outputs": [
    {
     "name": "stdout",
     "output_type": "stream",
     "text": [
      "<class 'pandas.core.frame.DataFrame'>\n",
      "RangeIndex: 551 entries, 0 to 550\n",
      "Data columns (total 10 columns):\n",
      " #   Column      Non-Null Count  Dtype  \n",
      "---  ------      --------------  -----  \n",
      " 0   City ID     551 non-null    object \n",
      " 1   City        551 non-null    object \n",
      " 2   Lat         551 non-null    float64\n",
      " 3   Lng         551 non-null    float64\n",
      " 4   Max Temp    551 non-null    float64\n",
      " 5   Humidity    551 non-null    float64\n",
      " 6   Cloudiness  551 non-null    float64\n",
      " 7   Wind Speed  551 non-null    float64\n",
      " 8   Country     551 non-null    object \n",
      " 9   Date        551 non-null    float64\n",
      "dtypes: float64(7), object(3)\n",
      "memory usage: 43.2+ KB\n"
     ]
    }
   ],
   "source": [
    "CityData['City ID']=CityData['City ID'].astype(object)\n",
    "CityData['Lat']=CityData['Lat'].astype(float)\n",
    "CityData['Lng']=CityData['Lng'].astype(float)\n",
    "CityData['Max Temp']=CityData['Max Temp'].astype(float)\n",
    "CityData['Humidity']=CityData['Humidity'].astype(float)\n",
    "CityData['Cloudiness']=CityData['Cloudiness'].astype(float)\n",
    "CityData['Wind Speed']=CityData['Wind Speed'].astype(float)\n",
    "CityData['Date']=CityData['Date'].astype(float)\n",
    "\n",
    "CityData.info()"
   ]
  },
  {
   "cell_type": "code",
   "execution_count": 8,
   "metadata": {},
   "outputs": [
    {
     "data": {
      "text/html": [
       "<div>\n",
       "<style scoped>\n",
       "    .dataframe tbody tr th:only-of-type {\n",
       "        vertical-align: middle;\n",
       "    }\n",
       "\n",
       "    .dataframe tbody tr th {\n",
       "        vertical-align: top;\n",
       "    }\n",
       "\n",
       "    .dataframe thead th {\n",
       "        text-align: right;\n",
       "    }\n",
       "</style>\n",
       "<table border=\"1\" class=\"dataframe\">\n",
       "  <thead>\n",
       "    <tr style=\"text-align: right;\">\n",
       "      <th></th>\n",
       "      <th>Lat</th>\n",
       "      <th>Lng</th>\n",
       "      <th>Max Temp</th>\n",
       "      <th>Humidity</th>\n",
       "      <th>Cloudiness</th>\n",
       "      <th>Wind Speed</th>\n",
       "      <th>Date</th>\n",
       "    </tr>\n",
       "  </thead>\n",
       "  <tbody>\n",
       "    <tr>\n",
       "      <th>count</th>\n",
       "      <td>551.000000</td>\n",
       "      <td>551.000000</td>\n",
       "      <td>551.000000</td>\n",
       "      <td>551.000000</td>\n",
       "      <td>551.000000</td>\n",
       "      <td>551.000000</td>\n",
       "      <td>5.510000e+02</td>\n",
       "    </tr>\n",
       "    <tr>\n",
       "      <th>mean</th>\n",
       "      <td>19.769313</td>\n",
       "      <td>14.215987</td>\n",
       "      <td>21.260309</td>\n",
       "      <td>68.972777</td>\n",
       "      <td>53.680581</td>\n",
       "      <td>3.610780</td>\n",
       "      <td>1.659945e+09</td>\n",
       "    </tr>\n",
       "    <tr>\n",
       "      <th>std</th>\n",
       "      <td>33.732129</td>\n",
       "      <td>88.648614</td>\n",
       "      <td>8.275342</td>\n",
       "      <td>22.115917</td>\n",
       "      <td>39.859704</td>\n",
       "      <td>2.566738</td>\n",
       "      <td>1.849612e+02</td>\n",
       "    </tr>\n",
       "    <tr>\n",
       "      <th>min</th>\n",
       "      <td>-54.800000</td>\n",
       "      <td>-179.166700</td>\n",
       "      <td>0.060000</td>\n",
       "      <td>9.000000</td>\n",
       "      <td>0.000000</td>\n",
       "      <td>0.000000</td>\n",
       "      <td>1.659944e+09</td>\n",
       "    </tr>\n",
       "    <tr>\n",
       "      <th>25%</th>\n",
       "      <td>-9.005950</td>\n",
       "      <td>-61.643400</td>\n",
       "      <td>15.540000</td>\n",
       "      <td>54.000000</td>\n",
       "      <td>9.000000</td>\n",
       "      <td>1.680000</td>\n",
       "      <td>1.659945e+09</td>\n",
       "    </tr>\n",
       "    <tr>\n",
       "      <th>50%</th>\n",
       "      <td>22.075200</td>\n",
       "      <td>19.234500</td>\n",
       "      <td>23.030000</td>\n",
       "      <td>73.000000</td>\n",
       "      <td>61.000000</td>\n",
       "      <td>3.000000</td>\n",
       "      <td>1.659945e+09</td>\n",
       "    </tr>\n",
       "    <tr>\n",
       "      <th>75%</th>\n",
       "      <td>49.799850</td>\n",
       "      <td>90.360050</td>\n",
       "      <td>27.060000</td>\n",
       "      <td>87.000000</td>\n",
       "      <td>97.000000</td>\n",
       "      <td>5.010000</td>\n",
       "      <td>1.659945e+09</td>\n",
       "    </tr>\n",
       "    <tr>\n",
       "      <th>max</th>\n",
       "      <td>78.218600</td>\n",
       "      <td>179.316700</td>\n",
       "      <td>43.060000</td>\n",
       "      <td>100.000000</td>\n",
       "      <td>100.000000</td>\n",
       "      <td>16.080000</td>\n",
       "      <td>1.659945e+09</td>\n",
       "    </tr>\n",
       "  </tbody>\n",
       "</table>\n",
       "</div>"
      ],
      "text/plain": [
       "              Lat         Lng    Max Temp    Humidity  Cloudiness  Wind Speed  \\\n",
       "count  551.000000  551.000000  551.000000  551.000000  551.000000  551.000000   \n",
       "mean    19.769313   14.215987   21.260309   68.972777   53.680581    3.610780   \n",
       "std     33.732129   88.648614    8.275342   22.115917   39.859704    2.566738   \n",
       "min    -54.800000 -179.166700    0.060000    9.000000    0.000000    0.000000   \n",
       "25%     -9.005950  -61.643400   15.540000   54.000000    9.000000    1.680000   \n",
       "50%     22.075200   19.234500   23.030000   73.000000   61.000000    3.000000   \n",
       "75%     49.799850   90.360050   27.060000   87.000000   97.000000    5.010000   \n",
       "max     78.218600  179.316700   43.060000  100.000000  100.000000   16.080000   \n",
       "\n",
       "               Date  \n",
       "count  5.510000e+02  \n",
       "mean   1.659945e+09  \n",
       "std    1.849612e+02  \n",
       "min    1.659944e+09  \n",
       "25%    1.659945e+09  \n",
       "50%    1.659945e+09  \n",
       "75%    1.659945e+09  \n",
       "max    1.659945e+09  "
      ]
     },
     "execution_count": 8,
     "metadata": {},
     "output_type": "execute_result"
    }
   ],
   "source": [
    "CityData.describe()"
   ]
  },
  {
   "cell_type": "markdown",
   "metadata": {},
   "source": [
    "## Inspect the data and remove the cities where the humidity > 100%.\n",
    "----\n",
    "Skip this step if there are no cities that have humidity > 100%. "
   ]
  },
  {
   "cell_type": "code",
   "execution_count": 9,
   "metadata": {},
   "outputs": [
    {
     "data": {
      "text/plain": [
       "Series([], Name: City ID, dtype: object)"
      ]
     },
     "execution_count": 9,
     "metadata": {},
     "output_type": "execute_result"
    }
   ],
   "source": [
    "#  Get the indices of cities that have humidity over 100%.\n",
    "Inspect=CityData.loc[CityData['Humidity']>100,'City ID']\n",
    "Inspect"
   ]
  },
  {
   "cell_type": "code",
   "execution_count": 10,
   "metadata": {},
   "outputs": [
    {
     "data": {
      "text/html": [
       "<div>\n",
       "<style scoped>\n",
       "    .dataframe tbody tr th:only-of-type {\n",
       "        vertical-align: middle;\n",
       "    }\n",
       "\n",
       "    .dataframe tbody tr th {\n",
       "        vertical-align: top;\n",
       "    }\n",
       "\n",
       "    .dataframe thead th {\n",
       "        text-align: right;\n",
       "    }\n",
       "</style>\n",
       "<table border=\"1\" class=\"dataframe\">\n",
       "  <thead>\n",
       "    <tr style=\"text-align: right;\">\n",
       "      <th></th>\n",
       "      <th>City ID</th>\n",
       "      <th>City</th>\n",
       "      <th>Lat</th>\n",
       "      <th>Lng</th>\n",
       "      <th>Max Temp</th>\n",
       "      <th>Humidity</th>\n",
       "      <th>Cloudiness</th>\n",
       "      <th>Wind Speed</th>\n",
       "      <th>Country</th>\n",
       "      <th>Date</th>\n",
       "    </tr>\n",
       "  </thead>\n",
       "  <tbody>\n",
       "    <tr>\n",
       "      <th>0</th>\n",
       "      <td>0</td>\n",
       "      <td>pevek</td>\n",
       "      <td>69.7008</td>\n",
       "      <td>170.3133</td>\n",
       "      <td>0.57</td>\n",
       "      <td>90.0</td>\n",
       "      <td>100.0</td>\n",
       "      <td>3.36</td>\n",
       "      <td>RU</td>\n",
       "      <td>1.659945e+09</td>\n",
       "    </tr>\n",
       "    <tr>\n",
       "      <th>1</th>\n",
       "      <td>1</td>\n",
       "      <td>zhigansk</td>\n",
       "      <td>66.7697</td>\n",
       "      <td>123.3711</td>\n",
       "      <td>16.06</td>\n",
       "      <td>63.0</td>\n",
       "      <td>100.0</td>\n",
       "      <td>5.20</td>\n",
       "      <td>RU</td>\n",
       "      <td>1.659945e+09</td>\n",
       "    </tr>\n",
       "    <tr>\n",
       "      <th>2</th>\n",
       "      <td>2</td>\n",
       "      <td>hermanus</td>\n",
       "      <td>-34.4187</td>\n",
       "      <td>19.2345</td>\n",
       "      <td>13.78</td>\n",
       "      <td>75.0</td>\n",
       "      <td>40.0</td>\n",
       "      <td>1.11</td>\n",
       "      <td>ZA</td>\n",
       "      <td>1.659945e+09</td>\n",
       "    </tr>\n",
       "    <tr>\n",
       "      <th>3</th>\n",
       "      <td>3</td>\n",
       "      <td>qaanaaq</td>\n",
       "      <td>77.4840</td>\n",
       "      <td>-69.3632</td>\n",
       "      <td>1.97</td>\n",
       "      <td>61.0</td>\n",
       "      <td>94.0</td>\n",
       "      <td>2.60</td>\n",
       "      <td>GL</td>\n",
       "      <td>1.659945e+09</td>\n",
       "    </tr>\n",
       "    <tr>\n",
       "      <th>4</th>\n",
       "      <td>4</td>\n",
       "      <td>ushuaia</td>\n",
       "      <td>-54.8000</td>\n",
       "      <td>-68.3000</td>\n",
       "      <td>0.81</td>\n",
       "      <td>64.0</td>\n",
       "      <td>20.0</td>\n",
       "      <td>0.51</td>\n",
       "      <td>AR</td>\n",
       "      <td>1.659945e+09</td>\n",
       "    </tr>\n",
       "    <tr>\n",
       "      <th>...</th>\n",
       "      <td>...</td>\n",
       "      <td>...</td>\n",
       "      <td>...</td>\n",
       "      <td>...</td>\n",
       "      <td>...</td>\n",
       "      <td>...</td>\n",
       "      <td>...</td>\n",
       "      <td>...</td>\n",
       "      <td>...</td>\n",
       "      <td>...</td>\n",
       "    </tr>\n",
       "    <tr>\n",
       "      <th>546</th>\n",
       "      <td>546</td>\n",
       "      <td>vieques</td>\n",
       "      <td>18.4250</td>\n",
       "      <td>-65.8329</td>\n",
       "      <td>28.01</td>\n",
       "      <td>78.0</td>\n",
       "      <td>40.0</td>\n",
       "      <td>5.66</td>\n",
       "      <td>PR</td>\n",
       "      <td>1.659945e+09</td>\n",
       "    </tr>\n",
       "    <tr>\n",
       "      <th>547</th>\n",
       "      <td>547</td>\n",
       "      <td>vallenar</td>\n",
       "      <td>-28.5708</td>\n",
       "      <td>-70.7581</td>\n",
       "      <td>12.56</td>\n",
       "      <td>46.0</td>\n",
       "      <td>87.0</td>\n",
       "      <td>2.31</td>\n",
       "      <td>CL</td>\n",
       "      <td>1.659945e+09</td>\n",
       "    </tr>\n",
       "    <tr>\n",
       "      <th>548</th>\n",
       "      <td>548</td>\n",
       "      <td>tartus</td>\n",
       "      <td>34.8890</td>\n",
       "      <td>35.8866</td>\n",
       "      <td>28.39</td>\n",
       "      <td>59.0</td>\n",
       "      <td>0.0</td>\n",
       "      <td>5.57</td>\n",
       "      <td>SY</td>\n",
       "      <td>1.659945e+09</td>\n",
       "    </tr>\n",
       "    <tr>\n",
       "      <th>549</th>\n",
       "      <td>549</td>\n",
       "      <td>salinas</td>\n",
       "      <td>36.6777</td>\n",
       "      <td>-121.6555</td>\n",
       "      <td>17.29</td>\n",
       "      <td>79.0</td>\n",
       "      <td>0.0</td>\n",
       "      <td>3.09</td>\n",
       "      <td>US</td>\n",
       "      <td>1.659945e+09</td>\n",
       "    </tr>\n",
       "    <tr>\n",
       "      <th>550</th>\n",
       "      <td>550</td>\n",
       "      <td>itarema</td>\n",
       "      <td>-2.9248</td>\n",
       "      <td>-39.9167</td>\n",
       "      <td>23.74</td>\n",
       "      <td>86.0</td>\n",
       "      <td>4.0</td>\n",
       "      <td>6.88</td>\n",
       "      <td>BR</td>\n",
       "      <td>1.659945e+09</td>\n",
       "    </tr>\n",
       "  </tbody>\n",
       "</table>\n",
       "<p>551 rows × 10 columns</p>\n",
       "</div>"
      ],
      "text/plain": [
       "    City ID      City      Lat       Lng  Max Temp  Humidity  Cloudiness  \\\n",
       "0         0     pevek  69.7008  170.3133      0.57      90.0       100.0   \n",
       "1         1  zhigansk  66.7697  123.3711     16.06      63.0       100.0   \n",
       "2         2  hermanus -34.4187   19.2345     13.78      75.0        40.0   \n",
       "3         3   qaanaaq  77.4840  -69.3632      1.97      61.0        94.0   \n",
       "4         4   ushuaia -54.8000  -68.3000      0.81      64.0        20.0   \n",
       "..      ...       ...      ...       ...       ...       ...         ...   \n",
       "546     546   vieques  18.4250  -65.8329     28.01      78.0        40.0   \n",
       "547     547  vallenar -28.5708  -70.7581     12.56      46.0        87.0   \n",
       "548     548    tartus  34.8890   35.8866     28.39      59.0         0.0   \n",
       "549     549   salinas  36.6777 -121.6555     17.29      79.0         0.0   \n",
       "550     550   itarema  -2.9248  -39.9167     23.74      86.0         4.0   \n",
       "\n",
       "     Wind Speed Country          Date  \n",
       "0          3.36      RU  1.659945e+09  \n",
       "1          5.20      RU  1.659945e+09  \n",
       "2          1.11      ZA  1.659945e+09  \n",
       "3          2.60      GL  1.659945e+09  \n",
       "4          0.51      AR  1.659945e+09  \n",
       "..          ...     ...           ...  \n",
       "546        5.66      PR  1.659945e+09  \n",
       "547        2.31      CL  1.659945e+09  \n",
       "548        5.57      SY  1.659945e+09  \n",
       "549        3.09      US  1.659945e+09  \n",
       "550        6.88      BR  1.659945e+09  \n",
       "\n",
       "[551 rows x 10 columns]"
      ]
     },
     "execution_count": 10,
     "metadata": {},
     "output_type": "execute_result"
    }
   ],
   "source": [
    "# Make a new DataFrame equal to the city data to drop all humidity outliers by index.\n",
    "# Passing \"inplace=False\" will make a copy of the city_data DataFrame, which we call \"clean_city_data\".\n",
    "clean_city_data=CityData.drop(Inspect)\n",
    "clean_city_data"
   ]
  },
  {
   "cell_type": "markdown",
   "metadata": {},
   "source": [
    "## Plotting the Data\n",
    "* Use proper labelling of the plots using plot titles (including date of analysis) and axes labels.\n",
    "* Save the plotted figures as .pngs."
   ]
  },
  {
   "cell_type": "markdown",
   "metadata": {},
   "source": [
    "## Latitude vs. Temperature Plot"
   ]
  },
  {
   "cell_type": "code",
   "execution_count": 11,
   "metadata": {},
   "outputs": [],
   "source": [
    "Lat=clean_city_data['Lat']\n",
    "MaxT=clean_city_data['Max Temp']\n",
    "time=pd.to_datetime('today').strftime('%d/%m/%y')\n"
   ]
  },
  {
   "cell_type": "code",
   "execution_count": 12,
   "metadata": {
    "scrolled": true
   },
   "outputs": [
    {
     "data": {
      "image/png": "[encoded data removed]",
      "text/plain": [
       "<Figure size 432x288 with 1 Axes>"
      ]
     },
     "metadata": {
      "needs_background": "light"
     },
     "output_type": "display_data"
    }
   ],
   "source": [
    "plt.scatter(Lat,MaxT,facecolor='green')\n",
    "plt.title('City Latitude v.s. Max Temperature('+time+')')\n",
    "plt.xlabel('Latitude')\n",
    "plt.ylabel('Max Temperature(C)')\n",
    "plt.xlim(min(Lat)-10,max(Lat)+10)\n",
    "plt.ylim(min(MaxT)-5,max(MaxT)+10)\n",
    "\n",
    "\n",
    "plt.savefig('Output Data/LatMaxt.png',encoding='utf-8');"
   ]
  },
  {
   "cell_type": "code",
   "execution_count": 13,
   "metadata": {},
   "outputs": [],
   "source": [
    "#The picture above shows two indications. One is that the maximum of cities' temperature is vary with their latitude. \n",
    "#Another point is we can find most of the people's active regions are in the Northern hemisphere as there is no city\n",
    "#in between 60 to 80 southern latitude while there are some cities still in between 60 to 80 northern latitude."
   ]
  },
  {
   "cell_type": "markdown",
   "metadata": {},
   "source": [
    "## Latitude vs. Humidity Plot"
   ]
  },
  {
   "cell_type": "code",
   "execution_count": 14,
   "metadata": {},
   "outputs": [
    {
     "data": {
      "image/png": "[encoded data removed]",
      "text/plain": [
       "<Figure size 432x288 with 1 Axes>"
      ]
     },
     "metadata": {
      "needs_background": "light"
     },
     "output_type": "display_data"
    }
   ],
   "source": [
    "Lat=clean_city_data['Lat']\n",
    "Humidity=clean_city_data['Humidity']\n",
    "\n",
    "\n",
    "plt.scatter(Lat,Humidity,facecolor='green')\n",
    "plt.title('City Latitude v.s. Humidity('+time+')')\n",
    "plt.xlabel('Latitude')\n",
    "plt.ylabel('Humidity(%)')\n",
    "plt.xlim(min(Lat)-10,max(Lat)+10)\n",
    "plt.ylim(min(Humidity)-10,max(Humidity)+10)\n",
    "\n",
    "\n",
    "plt.savefig('Output Data/LatHumi.png',encoding='utf-8');"
   ]
  },
  {
   "cell_type": "code",
   "execution_count": 15,
   "metadata": {},
   "outputs": [],
   "source": [
    "# The picture above shows two indications. One is that cities' humidity is not highly related with \n",
    "# their latitude. Another point is that the humidity in the range between 20 to 50 northern latitude \n",
    "# and the range between 0 to 20 southern latitude are unstable. Based on the second point, we could\n",
    "# find out that those ranges match with the distribution of globe land and help us to conclude that \n",
    "# the ocean could stabilize the climate change."
   ]
  },
  {
   "cell_type": "markdown",
   "metadata": {},
   "source": [
    "## Latitude vs. Cloudiness Plot"
   ]
  },
  {
   "cell_type": "code",
   "execution_count": 16,
   "metadata": {},
   "outputs": [
    {
     "data": {
      "image/png": "[encoded data removed]",
      "text/plain": [
       "<Figure size 432x288 with 1 Axes>"
      ]
     },
     "metadata": {
      "needs_background": "light"
     },
     "output_type": "display_data"
    }
   ],
   "source": [
    "Lat=clean_city_data['Lat']\n",
    "Cloudiness=clean_city_data['Cloudiness']\n",
    "\n",
    "\n",
    "plt.scatter(Lat,Cloudiness,facecolor='green')\n",
    "plt.title('City Latitude v.s. Cloudiness('+time+')')\n",
    "plt.xlabel('Latitude')\n",
    "plt.ylabel('Cloudiness(%)')\n",
    "plt.xlim(min(Lat)-10,max(Lat)+10)\n",
    "plt.ylim(min(Cloudiness)-10,max(Cloudiness)+10)\n",
    "\n",
    "plt.savefig('Output Data/LatCloud.png',encoding='utf-8');"
   ]
  },
  {
   "cell_type": "code",
   "execution_count": 17,
   "metadata": {},
   "outputs": [],
   "source": [
    "# The picture above shows that cities' cloudness is not related with their latitude."
   ]
  },
  {
   "cell_type": "markdown",
   "metadata": {},
   "source": [
    "## Latitude vs. Wind Speed Plot"
   ]
  },
  {
   "cell_type": "code",
   "execution_count": 18,
   "metadata": {},
   "outputs": [
    {
     "data": {
      "image/png": "[encoded data removed]",
      "text/plain": [
       "<Figure size 432x288 with 1 Axes>"
      ]
     },
     "metadata": {
      "needs_background": "light"
     },
     "output_type": "display_data"
    }
   ],
   "source": [
    "Lat=clean_city_data['Lat']\n",
    "WindSpeed=clean_city_data['Wind Speed']\n",
    "\n",
    "plt.scatter(Lat,WindSpeed,facecolor='green')\n",
    "plt.title('City Latitude v.s. Wind Speed('+time+')')\n",
    "plt.xlabel('Latitude')\n",
    "plt.ylabel('Wind Speed(m/s)')\n",
    "plt.xlim(min(Lat)-10,max(Lat)+10)\n",
    "plt.ylim(-2,max(WindSpeed)+3)\n",
    "\n",
    "plt.savefig('Output Data/LatWindSd.png',encoding='utf-8');"
   ]
  },
  {
   "cell_type": "code",
   "execution_count": 19,
   "metadata": {},
   "outputs": [],
   "source": [
    "# The picture above shows that cities' Wind Speed is not related with their latitude. \n",
    "# The city data with 17.5(mph)wind speed might be a outlier. We need more detial of that city to make a clear conclusion.  "
   ]
  },
  {
   "cell_type": "markdown",
   "metadata": {},
   "source": [
    "## Linear Regression"
   ]
  },
  {
   "cell_type": "code",
   "execution_count": null,
   "metadata": {},
   "outputs": [],
   "source": []
  },
  {
   "cell_type": "markdown",
   "metadata": {},
   "source": [
    "###  Max Temp vs. Latitude Linear Regression"
   ]
  },
  {
   "cell_type": "markdown",
   "metadata": {},
   "source": [
    "####  Northern Hemisphere - Max Temp vs. Latitude Linear Regression"
   ]
  },
  {
   "cell_type": "code",
   "execution_count": 20,
   "metadata": {},
   "outputs": [
    {
     "data": {
      "image/png": "[encoded data removed]",
      "text/plain": [
       "<Figure size 432x288 with 1 Axes>"
      ]
     },
     "metadata": {
      "needs_background": "light"
     },
     "output_type": "display_data"
    }
   ],
   "source": [
    "#base plot\n",
    "NorthHemi=clean_city_data.loc[(0<clean_city_data['Lat'])&(clean_city_data['Lat']<=90)]\n",
    "Lat_N=NorthHemi['Lat']\n",
    "MaxT=NorthHemi['Max Temp']\n",
    "\n",
    "#regression\n",
    "(slope,intercept,rvalue,pvalue,stderr)=linregress(Lat_N,MaxT)\n",
    "Line_eq='y='+str(round(slope,2))+'x+'+str(round(intercept,2))\n",
    "regress_value=slope*Lat_N+intercept\n",
    "\n",
    "#plot\n",
    "plt.scatter(Lat_N,MaxT,facecolor='green')\n",
    "plt.plot(Lat_N,regress_value,color='red',linewidth=1.5)\n",
    "plt.annotate(Line_eq,xy=(10,5),fontsize=20)\n",
    "plt.title('City Latitude v.s. Max Temperature('+time+')')\n",
    "plt.xlabel('Latitude')\n",
    "plt.ylabel('Max Temperature(C)')\n",
    "plt.xlim(min(Lat_N)-10,max(Lat_N)+10)\n",
    "plt.ylim(min(MaxT)-5,max(MaxT)+10);"
   ]
  },
  {
   "cell_type": "code",
   "execution_count": 21,
   "metadata": {},
   "outputs": [
    {
     "name": "stdout",
     "output_type": "stream",
     "text": [
      "The r-value is: -0.6059286604035652\n"
     ]
    }
   ],
   "source": [
    "print(f'The r-value is: {rvalue}')"
   ]
  },
  {
   "cell_type": "code",
   "execution_count": 22,
   "metadata": {},
   "outputs": [],
   "source": [
    "#1.The r-value indicates that the correlation is moderate inverse relationship.\n",
    "#2.It matches the conclusion from Latitude vs. Temperature Plot."
   ]
  },
  {
   "cell_type": "markdown",
   "metadata": {},
   "source": [
    "####  Southern Hemisphere - Max Temp vs. Latitude Linear Regression"
   ]
  },
  {
   "cell_type": "code",
   "execution_count": 23,
   "metadata": {},
   "outputs": [
    {
     "data": {
      "image/png": "[encoded data removed]",
      "text/plain": [
       "<Figure size 432x288 with 1 Axes>"
      ]
     },
     "metadata": {
      "needs_background": "light"
     },
     "output_type": "display_data"
    }
   ],
   "source": [
    "#base plot\n",
    "SouthHemi=clean_city_data.loc[(clean_city_data['Lat']<0)&(-90<=clean_city_data['Lat'])]\n",
    "Lat_S=SouthHemi['Lat']\n",
    "MaxT=SouthHemi['Max Temp']\n",
    "\n",
    "#regression\n",
    "(slope,intercept,rvalue,pvalue,stderr)=linregress(Lat_S,MaxT)\n",
    "Line_eq='y='+str(round(slope,2))+'x+'+str(round(intercept,2))\n",
    "regress_value=slope*Lat_S+intercept\n",
    "\n",
    "#plot\n",
    "plt.scatter(Lat_S,MaxT,facecolor='green')\n",
    "plt.plot(Lat_S,regress_value,color='red',linewidth=1.5)\n",
    "plt.annotate(Line_eq,xy=(-55,35),fontsize=20)\n",
    "plt.title('City Latitude v.s. Max Temperature('+time+')')\n",
    "plt.xlabel('Latitude')\n",
    "plt.ylabel('Max Temperature(C)')\n",
    "plt.xlim(min(Lat_S)-10,max(Lat_S)+10)\n",
    "plt.ylim(min(MaxT)-5,max(MaxT)+10);"
   ]
  },
  {
   "cell_type": "code",
   "execution_count": 24,
   "metadata": {},
   "outputs": [
    {
     "name": "stdout",
     "output_type": "stream",
     "text": [
      "The r-value is: 0.8155814282093319\n"
     ]
    }
   ],
   "source": [
    "print(f'The r-value is: {rvalue}')"
   ]
  },
  {
   "cell_type": "code",
   "execution_count": 25,
   "metadata": {},
   "outputs": [],
   "source": [
    "#1.The r-value indicates that the correlation is strong direct relationship.\n",
    "#2.Because the ratio of ocean/land in the Southern hemisphere is higher than the Northern hemisphere's one, \n",
    "#the correlation is stronger compared to the previous plot.\n",
    "#3.It matches the conclusion from Latitude vs. Temperature Plot."
   ]
  },
  {
   "cell_type": "markdown",
   "metadata": {},
   "source": [
    "### Humidity (%) vs. Latitude Linear Regression"
   ]
  },
  {
   "cell_type": "markdown",
   "metadata": {},
   "source": [
    "####  Northern Hemisphere - Humidity (%) vs. Latitude Linear Regression"
   ]
  },
  {
   "cell_type": "code",
   "execution_count": 26,
   "metadata": {},
   "outputs": [
    {
     "data": {
      "image/png": "[encoded data removed]",
      "text/plain": [
       "<Figure size 432x288 with 1 Axes>"
      ]
     },
     "metadata": {
      "needs_background": "light"
     },
     "output_type": "display_data"
    }
   ],
   "source": [
    "#base plot\n",
    "Humidity=NorthHemi['Humidity']\n",
    "\n",
    "#regression\n",
    "(slope,intercept,rvalue,pvalue,stderr)=linregress(Lat_N,Humidity)\n",
    "Line_eq='y='+str(round(slope,2))+'x+'+str(round(intercept,2))\n",
    "regress_value=slope*Lat_N+intercept\n",
    "\n",
    "#plot\n",
    "plt.scatter(Lat_N,Humidity,facecolor='green')\n",
    "plt.plot(Lat_N,regress_value,color='red',linewidth=1.5)\n",
    "plt.annotate(Line_eq,xy=(40,5),fontsize=20)\n",
    "plt.title('City Latitude v.s. Humidity('+time+')')\n",
    "plt.xlabel('Latitude')\n",
    "plt.ylabel('Humidity(%)')\n",
    "plt.xlim(min(Lat_N)-10,max(Lat_N)+10)\n",
    "plt.ylim(min(Humidity)-10,max(Humidity)+10);"
   ]
  },
  {
   "cell_type": "code",
   "execution_count": 27,
   "metadata": {},
   "outputs": [
    {
     "name": "stdout",
     "output_type": "stream",
     "text": [
      "The r-value is: -0.14035503821293271\n"
     ]
    }
   ],
   "source": [
    "print(f'The r-value is: {rvalue}')"
   ]
  },
  {
   "cell_type": "code",
   "execution_count": 28,
   "metadata": {},
   "outputs": [],
   "source": [
    "#1.The r-value indicates that the correlation is none.\n",
    "#2.It matches the conclusion from Latitude vs. Humidity Plot."
   ]
  },
  {
   "cell_type": "markdown",
   "metadata": {},
   "source": [
    "####  Southern Hemisphere - Humidity (%) vs. Latitude Linear Regression"
   ]
  },
  {
   "cell_type": "code",
   "execution_count": 29,
   "metadata": {},
   "outputs": [
    {
     "data": {
      "image/png": "[encoded data removed]",
      "text/plain": [
       "<Figure size 432x288 with 1 Axes>"
      ]
     },
     "metadata": {
      "needs_background": "light"
     },
     "output_type": "display_data"
    }
   ],
   "source": [
    "#base plot\n",
    "Humidity=SouthHemi['Humidity']\n",
    "\n",
    "#regression\n",
    "(slope,intercept,rvalue,pvalue,stderr)=linregress(Lat_S,Humidity)\n",
    "Line_eq='y='+str(round(slope,2))+'x+'+str(round(intercept,2))\n",
    "regress_value=slope*Lat_S+intercept\n",
    "\n",
    "#plot\n",
    "plt.scatter(Lat_S,Humidity,facecolor='green')\n",
    "plt.plot(Lat_S,regress_value,color='red',linewidth=1.5)\n",
    "plt.annotate(Line_eq,xy=(-60,40),fontsize=20)\n",
    "plt.title('City Latitude v.s. Humidity('+time+')')\n",
    "plt.xlabel('Latitude')\n",
    "plt.ylabel('Humidity(%)')\n",
    "plt.xlim(min(Lat_S)-10,max(Lat_S)+10)\n",
    "plt.ylim(min(Humidity)-10,max(Humidity)+10);"
   ]
  },
  {
   "cell_type": "code",
   "execution_count": 30,
   "metadata": {},
   "outputs": [
    {
     "name": "stdout",
     "output_type": "stream",
     "text": [
      "The r-value is: -0.17430960064317252\n"
     ]
    }
   ],
   "source": [
    "print(f'The r-value is: {rvalue}')"
   ]
  },
  {
   "cell_type": "code",
   "execution_count": 31,
   "metadata": {},
   "outputs": [],
   "source": [
    "#1.The r-value indicates that the correlation is none.\n",
    "#2.It matches the conclusion from Latitude vs. Humidity Plot."
   ]
  },
  {
   "cell_type": "markdown",
   "metadata": {},
   "source": [
    "### Cloudiness (%) vs. Latitude Linear Regression"
   ]
  },
  {
   "cell_type": "markdown",
   "metadata": {},
   "source": [
    "####  Northern Hemisphere - Cloudiness (%) vs. Latitude Linear Regression"
   ]
  },
  {
   "cell_type": "code",
   "execution_count": 32,
   "metadata": {},
   "outputs": [
    {
     "data": {
      "image/png": "[encoded data removed]",
      "text/plain": [
       "<Figure size 432x288 with 1 Axes>"
      ]
     },
     "metadata": {
      "needs_background": "light"
     },
     "output_type": "display_data"
    }
   ],
   "source": [
    "#base plot\n",
    "Cloudiness=NorthHemi['Cloudiness']\n",
    "\n",
    "#regression\n",
    "(slope,intercept,rvalue,pvalue,stderr)=linregress(Lat_N,Cloudiness)\n",
    "Line_eq='y='+str(round(slope,2))+'x+'+str(round(intercept,2))\n",
    "regress_value=slope*Lat_N+intercept\n",
    "\n",
    "#plot\n",
    "plt.scatter(Lat_N,Cloudiness,facecolor='green')\n",
    "plt.plot(Lat_N,regress_value,color='red',linewidth=1.5)\n",
    "plt.annotate(Line_eq,xy=(12,12),fontsize=20)\n",
    "plt.title('City Latitude v.s. Cloudiness('+time+')')\n",
    "plt.xlabel('Latitude')\n",
    "plt.ylabel('Cloudiness(%)')\n",
    "plt.xlim(min(Lat_N)-10,max(Lat_N)+10)\n",
    "plt.ylim(min(Cloudiness)-10,max(Cloudiness)+10);"
   ]
  },
  {
   "cell_type": "code",
   "execution_count": 33,
   "metadata": {},
   "outputs": [
    {
     "name": "stdout",
     "output_type": "stream",
     "text": [
      "The r-value is: -0.03519669420721991\n"
     ]
    }
   ],
   "source": [
    "print(f'The r-value is: {rvalue}')"
   ]
  },
  {
   "cell_type": "code",
   "execution_count": 34,
   "metadata": {},
   "outputs": [],
   "source": [
    "#1.The r-value indicates that the correlation is none.\n",
    "#2.It matches the conclusion from Latitude vs. cloudness Plot."
   ]
  },
  {
   "cell_type": "markdown",
   "metadata": {},
   "source": [
    "####  Southern Hemisphere - Cloudiness (%) vs. Latitude Linear Regression"
   ]
  },
  {
   "cell_type": "code",
   "execution_count": 35,
   "metadata": {},
   "outputs": [
    {
     "data": {
      "image/png": "[encoded data removed]",
      "text/plain": [
       "<Figure size 432x288 with 1 Axes>"
      ]
     },
     "metadata": {
      "needs_background": "light"
     },
     "output_type": "display_data"
    }
   ],
   "source": [
    "#base plot\n",
    "Cloudiness=SouthHemi['Cloudiness']\n",
    "\n",
    "#regression\n",
    "(slope,intercept,rvalue,pvalue,stderr)=linregress(Lat_S,Cloudiness)\n",
    "Line_eq='y='+str(round(slope,2))+'x+'+str(round(intercept,2))\n",
    "regress_value=slope*Lat_S+intercept\n",
    "\n",
    "#plot\n",
    "plt.scatter(Lat_S,Cloudiness,facecolor='green')\n",
    "plt.plot(Lat_S,regress_value,color='red',linewidth=1.5)\n",
    "plt.annotate(Line_eq,xy=(-50,20),fontsize=20)\n",
    "plt.title('City Latitude v.s. Cloudiness('+time+')')\n",
    "plt.xlabel('Latitude')\n",
    "plt.ylabel('Cloudiness(%)')\n",
    "plt.xlim(min(Lat_S)-10,max(Lat_S)+10)\n",
    "plt.ylim(min(Cloudiness)-10,max(Cloudiness)+10);"
   ]
  },
  {
   "cell_type": "code",
   "execution_count": 36,
   "metadata": {},
   "outputs": [
    {
     "name": "stdout",
     "output_type": "stream",
     "text": [
      "The r-value is: 0.05170092801242171\n"
     ]
    }
   ],
   "source": [
    "print(f'The r-value is: {rvalue}')"
   ]
  },
  {
   "cell_type": "code",
   "execution_count": 37,
   "metadata": {},
   "outputs": [],
   "source": [
    "#1.The r-value indicates that the correlation is none.\n",
    "#2.It matches the conclusion from Latitude vs. cloudness Plot."
   ]
  },
  {
   "cell_type": "markdown",
   "metadata": {},
   "source": [
    "### Wind Speed (m/s) vs. Latitude Linear Regression"
   ]
  },
  {
   "cell_type": "markdown",
   "metadata": {},
   "source": [
    "####  Northern Hemisphere - Wind Speed (mph) vs. Latitude Linear Regression"
   ]
  },
  {
   "cell_type": "code",
   "execution_count": 38,
   "metadata": {},
   "outputs": [
    {
     "data": {
      "image/png": "[encoded data removed]",
      "text/plain": [
       "<Figure size 432x288 with 1 Axes>"
      ]
     },
     "metadata": {
      "needs_background": "light"
     },
     "output_type": "display_data"
    }
   ],
   "source": [
    "#base plot\n",
    "WindSpeed=NorthHemi['Wind Speed']\n",
    "\n",
    "#regression\n",
    "(slope,intercept,rvalue,pvalue,stderr)=linregress(Lat_N,WindSpeed)\n",
    "Line_eq='y='+str(round(slope,2))+'x+'+str(round(intercept,2))\n",
    "regress_value=slope*Lat_N+intercept\n",
    "\n",
    "#plot\n",
    "plt.scatter(Lat_N,WindSpeed,facecolor='green')\n",
    "plt.plot(Lat_N,regress_value,color='red',linewidth=1.5)\n",
    "plt.annotate(Line_eq,xy=(12,12),fontsize=20)\n",
    "plt.title('City Latitude v.s. Wind Speed('+time+')')\n",
    "plt.xlabel('Latitude')\n",
    "plt.ylabel('Wind Speed(m/s)')\n",
    "plt.xlim(min(Lat_N)-10,max(Lat_N)+10)\n",
    "plt.ylim(-2,max(WindSpeed)+3);"
   ]
  },
  {
   "cell_type": "code",
   "execution_count": 39,
   "metadata": {},
   "outputs": [
    {
     "name": "stdout",
     "output_type": "stream",
     "text": [
      "The r-value is: -0.041111120578798586\n"
     ]
    }
   ],
   "source": [
    "print(f'The r-value is: {rvalue}')"
   ]
  },
  {
   "cell_type": "code",
   "execution_count": 40,
   "metadata": {},
   "outputs": [],
   "source": [
    "#1.The r-value indicates that the correlation is none.\n",
    "#2.It matches the conclusion from Latitude vs. Wind speed Plot."
   ]
  },
  {
   "cell_type": "markdown",
   "metadata": {},
   "source": [
    "####  Southern Hemisphere - Wind Speed (mph) vs. Latitude Linear Regression"
   ]
  },
  {
   "cell_type": "code",
   "execution_count": 41,
   "metadata": {},
   "outputs": [
    {
     "data": {
      "image/png": "[encoded data removed]",
      "text/plain": [
       "<Figure size 432x288 with 1 Axes>"
      ]
     },
     "metadata": {
      "needs_background": "light"
     },
     "output_type": "display_data"
    }
   ],
   "source": [
    "#base plot\n",
    "WindSpeed=SouthHemi['Wind Speed']\n",
    "\n",
    "#regression\n",
    "(slope,intercept,rvalue,pvalue,stderr)=linregress(Lat_S,WindSpeed)\n",
    "Line_eq='y='+str(round(slope,2))+'x+'+str(round(intercept,2))\n",
    "regress_value=slope*Lat_S+intercept\n",
    "\n",
    "#plot\n",
    "plt.scatter(Lat_S,WindSpeed,facecolor='green')\n",
    "plt.plot(Lat_S,regress_value,color='red',linewidth=1.5)\n",
    "plt.annotate(Line_eq,xy=(-50,13),fontsize=20)\n",
    "plt.title('City Latitude v.s. Wind Speed('+time+')')\n",
    "plt.xlabel('Latitude')\n",
    "plt.ylabel('Wind Speed(m/s)')\n",
    "plt.xlim(min(Lat_S)-10,max(Lat_S)+10)\n",
    "plt.ylim(-2,max(WindSpeed)+3);"
   ]
  },
  {
   "cell_type": "code",
   "execution_count": 42,
   "metadata": {},
   "outputs": [
    {
     "name": "stdout",
     "output_type": "stream",
     "text": [
      "The r-value is: -0.0643360796191496\n"
     ]
    }
   ],
   "source": [
    "print(f'The r-value is: {rvalue}')"
   ]
  },
  {
   "cell_type": "code",
   "execution_count": 43,
   "metadata": {},
   "outputs": [],
   "source": [
    "#1.The r-value indicates that the correlation is none.\n",
    "#2.It matches the conclusion from Latitude vs. Wind speed Plot."
   ]
  }
 ],
 "metadata": {
  "anaconda-cloud": {},
  "kernel_info": {
   "name": "python3"
  },
  "kernelspec": {
   "display_name": "Python [conda env:PythonData] *",
   "language": "python",
   "name": "conda-env-PythonData-py"
  },
  "language_info": {
   "codemirror_mode": {
    "name": "ipython",
    "version": 3
   },
   "file_extension": ".py",
   "mimetype": "text/x-python",
   "name": "python",
   "nbconvert_exporter": "python",
   "pygments_lexer": "ipython3",
   "version": "3.7.7"
  },
  "latex_envs": {
   "LaTeX_envs_menu_present": true,
   "autoclose": false,
   "autocomplete": true,
   "bibliofile": "biblio.bib",
   "cite_by": "apalike",
   "current_citInitial": 1,
   "eqLabelWithNumbers": true,
   "eqNumInitial": 1,
   "hotkeys": {
    "equation": "Ctrl-E",
    "itemize": "Ctrl-I"
   },
   "labels_anchors": false,
   "latex_user_defs": false,
   "report_style_numbering": false,
   "user_envs_cfg": false
  },
  "nteract": {
   "version": "0.12.3"
  }
 },
 "nbformat": 4,
 "nbformat_minor": 2
}
